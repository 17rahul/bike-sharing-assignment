{
 "cells": [
  {
   "cell_type": "markdown",
   "metadata": {},
   "source": [
    "# Bike Sharing Assignment by Rahul Madan"
   ]
  },
  {
   "cell_type": "markdown",
   "metadata": {},
   "source": [
    "## **Problem Statement**<br>\n",
    "\n",
    "A bike-sharing system is a service in which bikes are made available for shared use to individuals on a short term basis for a price or free. Many bike share systems allow people to borrow a bike from a \"dock\" which is usually computer-controlled wherein the user enters the payment information, and the system unlocks it. This bike can then be returned to another dock belonging to the same system.\n",
    "\n",
    "\n",
    "A US bike-sharing provider **BoomBikes** has recently suffered considerable dips in their revenues due to the ongoing Corona pandemic. The company is finding it very difficult to sustain in the current market scenario. So, it has decided to come up with a mindful business plan to be able to accelerate its revenue as soon as the ongoing lockdown comes to an end, and the economy restores to a healthy state. \n",
    "\n",
    "\n",
    "In such an attempt, BoomBikes aspires to understand the demand for shared bikes among the people after this ongoing quarantine situation ends across the nation due to Covid-19. They have planned this to prepare themselves to cater to the people's needs once the situation gets better all around and stand out from other service providers and make huge profits.\n",
    "\n",
    "\n",
    "They have contracted a consulting company to understand the factors on which the demand for these shared bikes depends. Specifically, they want to understand the factors affecting the demand for these shared bikes in the American market. The company wants to know:\n",
    "\n",
    "* Which variables are significant in predicting the demand for shared bikes.\n",
    "* How well those variables describe the bike demands <br>\n",
    "\n",
    "Based on various meteorological surveys and people's styles, the service provider firm has gathered a large dataset on daily bike demands across the American market based on some factors. \n",
    "\n",
    "\n",
    "**Business Goal**:<br>\n",
    "You are required to model the demand for shared bikes with the available independent variables. It will be used by the management to understand how exactly the demands vary with different features. They can accordingly manipulate the business strategy to meet the demand levels and meet the customer's expectations. Further, the model will be a good way for management to understand the demand dynamics of a new market. "
   ]
  },
  {
   "cell_type": "markdown",
   "metadata": {},
   "source": [
    "# Importing required libraries"
   ]
  },
  {
   "cell_type": "code",
   "execution_count": 259,
   "metadata": {},
   "outputs": [],
   "source": [
    "# Supress Warnings\n",
    "\n",
    "import warnings\n",
    "warnings.filterwarnings('ignore')"
   ]
  },
  {
   "cell_type": "code",
   "execution_count": 260,
   "metadata": {},
   "outputs": [],
   "source": [
    "import numpy as np\n",
    "import pandas as pd\n",
    "import matplotlib.pyplot as plt\n",
    "import seaborn as sns\n",
    "%matplotlib inline\n",
    "import sklearn\n",
    "from sklearn.feature_selection import RFE\n",
    "from sklearn.linear_model import LinearRegression\n",
    "from sklearn.model_selection import train_test_split\n",
    "from sklearn.preprocessing import MinMaxScaler\n",
    "import statsmodels.api as sm\n",
    "from statsmodels.stats.outliers_influence import variance_inflation_factor\n",
    "from sklearn.metrics import r2_score\n"
   ]
  },
  {
   "cell_type": "markdown",
   "metadata": {},
   "source": [
    "# Reading and Understanding the Data\n",
    "## Read Bike Sharing Dataset file that is \"day.csv\" as bike"
   ]
  },
  {
   "cell_type": "code",
   "execution_count": 261,
   "metadata": {},
   "outputs": [],
   "source": [
    "bike = pd.read_csv(\"day.csv\")"
   ]
  },
  {
   "cell_type": "markdown",
   "metadata": {},
   "source": [
    "## Exploratory Data Analysis"
   ]
  },
  {
   "cell_type": "code",
   "execution_count": 262,
   "metadata": {
    "scrolled": true
   },
   "outputs": [
    {
     "data": {
      "text/html": [
       "<div>\n",
       "<style scoped>\n",
       "    .dataframe tbody tr th:only-of-type {\n",
       "        vertical-align: middle;\n",
       "    }\n",
       "\n",
       "    .dataframe tbody tr th {\n",
       "        vertical-align: top;\n",
       "    }\n",
       "\n",
       "    .dataframe thead th {\n",
       "        text-align: right;\n",
       "    }\n",
       "</style>\n",
       "<table border=\"1\" class=\"dataframe\">\n",
       "  <thead>\n",
       "    <tr style=\"text-align: right;\">\n",
       "      <th></th>\n",
       "      <th>instant</th>\n",
       "      <th>dteday</th>\n",
       "      <th>season</th>\n",
       "      <th>yr</th>\n",
       "      <th>mnth</th>\n",
       "      <th>holiday</th>\n",
       "      <th>weekday</th>\n",
       "      <th>workingday</th>\n",
       "      <th>weathersit</th>\n",
       "      <th>temp</th>\n",
       "      <th>atemp</th>\n",
       "      <th>hum</th>\n",
       "      <th>windspeed</th>\n",
       "      <th>casual</th>\n",
       "      <th>registered</th>\n",
       "      <th>cnt</th>\n",
       "    </tr>\n",
       "  </thead>\n",
       "  <tbody>\n",
       "    <tr>\n",
       "      <th>0</th>\n",
       "      <td>1</td>\n",
       "      <td>01-01-2018</td>\n",
       "      <td>1</td>\n",
       "      <td>0</td>\n",
       "      <td>1</td>\n",
       "      <td>0</td>\n",
       "      <td>6</td>\n",
       "      <td>0</td>\n",
       "      <td>2</td>\n",
       "      <td>14.110847</td>\n",
       "      <td>18.18125</td>\n",
       "      <td>80.5833</td>\n",
       "      <td>10.749882</td>\n",
       "      <td>331</td>\n",
       "      <td>654</td>\n",
       "      <td>985</td>\n",
       "    </tr>\n",
       "    <tr>\n",
       "      <th>1</th>\n",
       "      <td>2</td>\n",
       "      <td>02-01-2018</td>\n",
       "      <td>1</td>\n",
       "      <td>0</td>\n",
       "      <td>1</td>\n",
       "      <td>0</td>\n",
       "      <td>0</td>\n",
       "      <td>0</td>\n",
       "      <td>2</td>\n",
       "      <td>14.902598</td>\n",
       "      <td>17.68695</td>\n",
       "      <td>69.6087</td>\n",
       "      <td>16.652113</td>\n",
       "      <td>131</td>\n",
       "      <td>670</td>\n",
       "      <td>801</td>\n",
       "    </tr>\n",
       "    <tr>\n",
       "      <th>2</th>\n",
       "      <td>3</td>\n",
       "      <td>03-01-2018</td>\n",
       "      <td>1</td>\n",
       "      <td>0</td>\n",
       "      <td>1</td>\n",
       "      <td>0</td>\n",
       "      <td>1</td>\n",
       "      <td>1</td>\n",
       "      <td>1</td>\n",
       "      <td>8.050924</td>\n",
       "      <td>9.47025</td>\n",
       "      <td>43.7273</td>\n",
       "      <td>16.636703</td>\n",
       "      <td>120</td>\n",
       "      <td>1229</td>\n",
       "      <td>1349</td>\n",
       "    </tr>\n",
       "    <tr>\n",
       "      <th>3</th>\n",
       "      <td>4</td>\n",
       "      <td>04-01-2018</td>\n",
       "      <td>1</td>\n",
       "      <td>0</td>\n",
       "      <td>1</td>\n",
       "      <td>0</td>\n",
       "      <td>2</td>\n",
       "      <td>1</td>\n",
       "      <td>1</td>\n",
       "      <td>8.200000</td>\n",
       "      <td>10.60610</td>\n",
       "      <td>59.0435</td>\n",
       "      <td>10.739832</td>\n",
       "      <td>108</td>\n",
       "      <td>1454</td>\n",
       "      <td>1562</td>\n",
       "    </tr>\n",
       "    <tr>\n",
       "      <th>4</th>\n",
       "      <td>5</td>\n",
       "      <td>05-01-2018</td>\n",
       "      <td>1</td>\n",
       "      <td>0</td>\n",
       "      <td>1</td>\n",
       "      <td>0</td>\n",
       "      <td>3</td>\n",
       "      <td>1</td>\n",
       "      <td>1</td>\n",
       "      <td>9.305237</td>\n",
       "      <td>11.46350</td>\n",
       "      <td>43.6957</td>\n",
       "      <td>12.522300</td>\n",
       "      <td>82</td>\n",
       "      <td>1518</td>\n",
       "      <td>1600</td>\n",
       "    </tr>\n",
       "  </tbody>\n",
       "</table>\n",
       "</div>"
      ],
      "text/plain": [
       "   instant      dteday  season  yr  mnth  holiday  weekday  workingday  \\\n",
       "0        1  01-01-2018       1   0     1        0        6           0   \n",
       "1        2  02-01-2018       1   0     1        0        0           0   \n",
       "2        3  03-01-2018       1   0     1        0        1           1   \n",
       "3        4  04-01-2018       1   0     1        0        2           1   \n",
       "4        5  05-01-2018       1   0     1        0        3           1   \n",
       "\n",
       "   weathersit       temp     atemp      hum  windspeed  casual  registered  \\\n",
       "0           2  14.110847  18.18125  80.5833  10.749882     331         654   \n",
       "1           2  14.902598  17.68695  69.6087  16.652113     131         670   \n",
       "2           1   8.050924   9.47025  43.7273  16.636703     120        1229   \n",
       "3           1   8.200000  10.60610  59.0435  10.739832     108        1454   \n",
       "4           1   9.305237  11.46350  43.6957  12.522300      82        1518   \n",
       "\n",
       "    cnt  \n",
       "0   985  \n",
       "1   801  \n",
       "2  1349  \n",
       "3  1562  \n",
       "4  1600  "
      ]
     },
     "execution_count": 262,
     "metadata": {},
     "output_type": "execute_result"
    }
   ],
   "source": [
    "# Check the head of the dataset\n",
    "bike.head()"
   ]
  },
  {
   "cell_type": "code",
   "execution_count": 263,
   "metadata": {
    "scrolled": true
   },
   "outputs": [
    {
     "name": "stdout",
     "output_type": "stream",
     "text": [
      "<class 'pandas.core.frame.DataFrame'>\n",
      "RangeIndex: 730 entries, 0 to 729\n",
      "Data columns (total 16 columns):\n",
      " #   Column      Non-Null Count  Dtype  \n",
      "---  ------      --------------  -----  \n",
      " 0   instant     730 non-null    int64  \n",
      " 1   dteday      730 non-null    object \n",
      " 2   season      730 non-null    int64  \n",
      " 3   yr          730 non-null    int64  \n",
      " 4   mnth        730 non-null    int64  \n",
      " 5   holiday     730 non-null    int64  \n",
      " 6   weekday     730 non-null    int64  \n",
      " 7   workingday  730 non-null    int64  \n",
      " 8   weathersit  730 non-null    int64  \n",
      " 9   temp        730 non-null    float64\n",
      " 10  atemp       730 non-null    float64\n",
      " 11  hum         730 non-null    float64\n",
      " 12  windspeed   730 non-null    float64\n",
      " 13  casual      730 non-null    int64  \n",
      " 14  registered  730 non-null    int64  \n",
      " 15  cnt         730 non-null    int64  \n",
      "dtypes: float64(4), int64(11), object(1)\n",
      "memory usage: 91.4+ KB\n"
     ]
    }
   ],
   "source": [
    "# Check the descriptive information\n",
    "bike.info()"
   ]
  },
  {
   "cell_type": "code",
   "execution_count": 264,
   "metadata": {
    "scrolled": true
   },
   "outputs": [
    {
     "data": {
      "text/html": [
       "<div>\n",
       "<style scoped>\n",
       "    .dataframe tbody tr th:only-of-type {\n",
       "        vertical-align: middle;\n",
       "    }\n",
       "\n",
       "    .dataframe tbody tr th {\n",
       "        vertical-align: top;\n",
       "    }\n",
       "\n",
       "    .dataframe thead th {\n",
       "        text-align: right;\n",
       "    }\n",
       "</style>\n",
       "<table border=\"1\" class=\"dataframe\">\n",
       "  <thead>\n",
       "    <tr style=\"text-align: right;\">\n",
       "      <th></th>\n",
       "      <th>instant</th>\n",
       "      <th>season</th>\n",
       "      <th>yr</th>\n",
       "      <th>mnth</th>\n",
       "      <th>holiday</th>\n",
       "      <th>weekday</th>\n",
       "      <th>workingday</th>\n",
       "      <th>weathersit</th>\n",
       "      <th>temp</th>\n",
       "      <th>atemp</th>\n",
       "      <th>hum</th>\n",
       "      <th>windspeed</th>\n",
       "      <th>casual</th>\n",
       "      <th>registered</th>\n",
       "      <th>cnt</th>\n",
       "    </tr>\n",
       "  </thead>\n",
       "  <tbody>\n",
       "    <tr>\n",
       "      <th>count</th>\n",
       "      <td>730.000000</td>\n",
       "      <td>730.000000</td>\n",
       "      <td>730.000000</td>\n",
       "      <td>730.000000</td>\n",
       "      <td>730.000000</td>\n",
       "      <td>730.000000</td>\n",
       "      <td>730.000000</td>\n",
       "      <td>730.000000</td>\n",
       "      <td>730.000000</td>\n",
       "      <td>730.000000</td>\n",
       "      <td>730.000000</td>\n",
       "      <td>730.000000</td>\n",
       "      <td>730.000000</td>\n",
       "      <td>730.000000</td>\n",
       "      <td>730.000000</td>\n",
       "    </tr>\n",
       "    <tr>\n",
       "      <th>mean</th>\n",
       "      <td>365.500000</td>\n",
       "      <td>2.498630</td>\n",
       "      <td>0.500000</td>\n",
       "      <td>6.526027</td>\n",
       "      <td>0.028767</td>\n",
       "      <td>2.997260</td>\n",
       "      <td>0.683562</td>\n",
       "      <td>1.394521</td>\n",
       "      <td>20.319259</td>\n",
       "      <td>23.726322</td>\n",
       "      <td>62.765175</td>\n",
       "      <td>12.763620</td>\n",
       "      <td>849.249315</td>\n",
       "      <td>3658.757534</td>\n",
       "      <td>4508.006849</td>\n",
       "    </tr>\n",
       "    <tr>\n",
       "      <th>std</th>\n",
       "      <td>210.877136</td>\n",
       "      <td>1.110184</td>\n",
       "      <td>0.500343</td>\n",
       "      <td>3.450215</td>\n",
       "      <td>0.167266</td>\n",
       "      <td>2.006161</td>\n",
       "      <td>0.465405</td>\n",
       "      <td>0.544807</td>\n",
       "      <td>7.506729</td>\n",
       "      <td>8.150308</td>\n",
       "      <td>14.237589</td>\n",
       "      <td>5.195841</td>\n",
       "      <td>686.479875</td>\n",
       "      <td>1559.758728</td>\n",
       "      <td>1936.011647</td>\n",
       "    </tr>\n",
       "    <tr>\n",
       "      <th>min</th>\n",
       "      <td>1.000000</td>\n",
       "      <td>1.000000</td>\n",
       "      <td>0.000000</td>\n",
       "      <td>1.000000</td>\n",
       "      <td>0.000000</td>\n",
       "      <td>0.000000</td>\n",
       "      <td>0.000000</td>\n",
       "      <td>1.000000</td>\n",
       "      <td>2.424346</td>\n",
       "      <td>3.953480</td>\n",
       "      <td>0.000000</td>\n",
       "      <td>1.500244</td>\n",
       "      <td>2.000000</td>\n",
       "      <td>20.000000</td>\n",
       "      <td>22.000000</td>\n",
       "    </tr>\n",
       "    <tr>\n",
       "      <th>25%</th>\n",
       "      <td>183.250000</td>\n",
       "      <td>2.000000</td>\n",
       "      <td>0.000000</td>\n",
       "      <td>4.000000</td>\n",
       "      <td>0.000000</td>\n",
       "      <td>1.000000</td>\n",
       "      <td>0.000000</td>\n",
       "      <td>1.000000</td>\n",
       "      <td>13.811885</td>\n",
       "      <td>16.889713</td>\n",
       "      <td>52.000000</td>\n",
       "      <td>9.041650</td>\n",
       "      <td>316.250000</td>\n",
       "      <td>2502.250000</td>\n",
       "      <td>3169.750000</td>\n",
       "    </tr>\n",
       "    <tr>\n",
       "      <th>50%</th>\n",
       "      <td>365.500000</td>\n",
       "      <td>3.000000</td>\n",
       "      <td>0.500000</td>\n",
       "      <td>7.000000</td>\n",
       "      <td>0.000000</td>\n",
       "      <td>3.000000</td>\n",
       "      <td>1.000000</td>\n",
       "      <td>1.000000</td>\n",
       "      <td>20.465826</td>\n",
       "      <td>24.368225</td>\n",
       "      <td>62.625000</td>\n",
       "      <td>12.125325</td>\n",
       "      <td>717.000000</td>\n",
       "      <td>3664.500000</td>\n",
       "      <td>4548.500000</td>\n",
       "    </tr>\n",
       "    <tr>\n",
       "      <th>75%</th>\n",
       "      <td>547.750000</td>\n",
       "      <td>3.000000</td>\n",
       "      <td>1.000000</td>\n",
       "      <td>10.000000</td>\n",
       "      <td>0.000000</td>\n",
       "      <td>5.000000</td>\n",
       "      <td>1.000000</td>\n",
       "      <td>2.000000</td>\n",
       "      <td>26.880615</td>\n",
       "      <td>30.445775</td>\n",
       "      <td>72.989575</td>\n",
       "      <td>15.625589</td>\n",
       "      <td>1096.500000</td>\n",
       "      <td>4783.250000</td>\n",
       "      <td>5966.000000</td>\n",
       "    </tr>\n",
       "    <tr>\n",
       "      <th>max</th>\n",
       "      <td>730.000000</td>\n",
       "      <td>4.000000</td>\n",
       "      <td>1.000000</td>\n",
       "      <td>12.000000</td>\n",
       "      <td>1.000000</td>\n",
       "      <td>6.000000</td>\n",
       "      <td>1.000000</td>\n",
       "      <td>3.000000</td>\n",
       "      <td>35.328347</td>\n",
       "      <td>42.044800</td>\n",
       "      <td>97.250000</td>\n",
       "      <td>34.000021</td>\n",
       "      <td>3410.000000</td>\n",
       "      <td>6946.000000</td>\n",
       "      <td>8714.000000</td>\n",
       "    </tr>\n",
       "  </tbody>\n",
       "</table>\n",
       "</div>"
      ],
      "text/plain": [
       "          instant      season          yr        mnth     holiday     weekday  \\\n",
       "count  730.000000  730.000000  730.000000  730.000000  730.000000  730.000000   \n",
       "mean   365.500000    2.498630    0.500000    6.526027    0.028767    2.997260   \n",
       "std    210.877136    1.110184    0.500343    3.450215    0.167266    2.006161   \n",
       "min      1.000000    1.000000    0.000000    1.000000    0.000000    0.000000   \n",
       "25%    183.250000    2.000000    0.000000    4.000000    0.000000    1.000000   \n",
       "50%    365.500000    3.000000    0.500000    7.000000    0.000000    3.000000   \n",
       "75%    547.750000    3.000000    1.000000   10.000000    0.000000    5.000000   \n",
       "max    730.000000    4.000000    1.000000   12.000000    1.000000    6.000000   \n",
       "\n",
       "       workingday  weathersit        temp       atemp         hum   windspeed  \\\n",
       "count  730.000000  730.000000  730.000000  730.000000  730.000000  730.000000   \n",
       "mean     0.683562    1.394521   20.319259   23.726322   62.765175   12.763620   \n",
       "std      0.465405    0.544807    7.506729    8.150308   14.237589    5.195841   \n",
       "min      0.000000    1.000000    2.424346    3.953480    0.000000    1.500244   \n",
       "25%      0.000000    1.000000   13.811885   16.889713   52.000000    9.041650   \n",
       "50%      1.000000    1.000000   20.465826   24.368225   62.625000   12.125325   \n",
       "75%      1.000000    2.000000   26.880615   30.445775   72.989575   15.625589   \n",
       "max      1.000000    3.000000   35.328347   42.044800   97.250000   34.000021   \n",
       "\n",
       "            casual   registered          cnt  \n",
       "count   730.000000   730.000000   730.000000  \n",
       "mean    849.249315  3658.757534  4508.006849  \n",
       "std     686.479875  1559.758728  1936.011647  \n",
       "min       2.000000    20.000000    22.000000  \n",
       "25%     316.250000  2502.250000  3169.750000  \n",
       "50%     717.000000  3664.500000  4548.500000  \n",
       "75%    1096.500000  4783.250000  5966.000000  \n",
       "max    3410.000000  6946.000000  8714.000000  "
      ]
     },
     "execution_count": 264,
     "metadata": {},
     "output_type": "execute_result"
    }
   ],
   "source": [
    "bike.describe()"
   ]
  },
  {
   "cell_type": "code",
   "execution_count": 265,
   "metadata": {
    "scrolled": false
   },
   "outputs": [
    {
     "name": "stdout",
     "output_type": "stream",
     "text": [
      "(730, 16)\n"
     ]
    }
   ],
   "source": [
    "# Check the shape of data frame \n",
    "\n",
    "print(bike.shape)"
   ]
  },
  {
   "cell_type": "markdown",
   "metadata": {},
   "source": [
    " Findings :\n",
    "\n",
    "\n",
    "* Except one column that is \"dteday\", all other are either float or integer type. This is of date type. \n",
    "* Some of the columns are categorical though expresses as int/float type. Need to work annd covert them  to categorical  or treat them as it is. \n",
    "\n",
    "\n",
    "\n",
    "## DATA QUALITY CHECK\n",
    "####  Check for NULL/MISSING values"
   ]
  },
  {
   "cell_type": "code",
   "execution_count": 266,
   "metadata": {},
   "outputs": [
    {
     "data": {
      "text/plain": [
       "instant       0.0\n",
       "dteday        0.0\n",
       "season        0.0\n",
       "yr            0.0\n",
       "mnth          0.0\n",
       "holiday       0.0\n",
       "weekday       0.0\n",
       "workingday    0.0\n",
       "weathersit    0.0\n",
       "temp          0.0\n",
       "atemp         0.0\n",
       "hum           0.0\n",
       "windspeed     0.0\n",
       "casual        0.0\n",
       "registered    0.0\n",
       "cnt           0.0\n",
       "dtype: float64"
      ]
     },
     "execution_count": 266,
     "metadata": {},
     "output_type": "execute_result"
    }
   ],
   "source": [
    "# percentage of missing values in each column\n",
    "#bike.isnull().sum()*100/bike.shape[0]\n",
    "#or\n",
    "round(100*(bike.isnull().sum()/len(bike)), 2).sort_values(ascending=False)"
   ]
  },
  {
   "cell_type": "code",
   "execution_count": 267,
   "metadata": {},
   "outputs": [
    {
     "data": {
      "text/plain": [
       "0      0.0\n",
       "479    0.0\n",
       "481    0.0\n",
       "482    0.0\n",
       "483    0.0\n",
       "      ... \n",
       "245    0.0\n",
       "246    0.0\n",
       "247    0.0\n",
       "248    0.0\n",
       "729    0.0\n",
       "Length: 730, dtype: float64"
      ]
     },
     "execution_count": 267,
     "metadata": {},
     "output_type": "execute_result"
    }
   ],
   "source": [
    "# row-wise null count percentage\n",
    "round(100*(bike.isnull().sum(axis=1)/len(bike)),2).sort_values(ascending=False)"
   ]
  },
  {
   "cell_type": "markdown",
   "metadata": {},
   "source": [
    "**Conclusion**: There are no missing / Null values either in columns or rows"
   ]
  },
  {
   "cell_type": "markdown",
   "metadata": {},
   "source": [
    "#### Duplicate Check"
   ]
  },
  {
   "cell_type": "code",
   "execution_count": 268,
   "metadata": {},
   "outputs": [],
   "source": [
    "bike_dupl = bike.copy()\n",
    "\n",
    "# Checking for duplicates and dropping the entire duplicate row if any\n",
    "bike_dupl.drop_duplicates(subset=None, inplace=True)"
   ]
  },
  {
   "cell_type": "code",
   "execution_count": 269,
   "metadata": {},
   "outputs": [
    {
     "data": {
      "text/plain": [
       "(730, 16)"
      ]
     },
     "execution_count": 269,
     "metadata": {},
     "output_type": "execute_result"
    }
   ],
   "source": [
    "bike_dupl.shape"
   ]
  },
  {
   "cell_type": "code",
   "execution_count": 270,
   "metadata": {},
   "outputs": [
    {
     "data": {
      "text/plain": [
       "(730, 16)"
      ]
     },
     "execution_count": 270,
     "metadata": {},
     "output_type": "execute_result"
    }
   ],
   "source": [
    "bike.shape"
   ]
  },
  {
   "cell_type": "markdown",
   "metadata": {},
   "source": [
    "**Conclusion**: As the shape after drop duplicates is same. No duplicate values in the dataset."
   ]
  },
  {
   "cell_type": "markdown",
   "metadata": {},
   "source": [
    "## Data Cleaning: \n",
    "    \n",
    "Checking value_counts() for entire dataframe\n",
    "\n",
    "This will help to identify any Unknow/Junk values present in the dataset"
   ]
  },
  {
   "cell_type": "code",
   "execution_count": 271,
   "metadata": {
    "scrolled": true
   },
   "outputs": [
    {
     "data": {
      "text/plain": [
       "instant  dteday      season  yr  mnth  holiday  weekday  workingday  weathersit  temp       atemp     hum      windspeed  casual  registered  cnt \n",
       "1        01-01-2018  1       0   1     0        6        0           2           14.110847  18.18125  80.5833  10.749882  331     654         985     1\n",
       "480      25-04-2019  2       1   4     0        3        1           1           19.543347  23.51585  42.7917  7.959064   655     5541        6196    1\n",
       "482      27-04-2019  2       1   4     0        5        1           1           18.757500  22.63185  40.0833  23.291411  1014    5219        6233    1\n",
       "483      28-04-2019  2       1   4     0        6        0           2           15.443347  18.87520  48.9583  8.708325   1120    3100        4220    1\n",
       "484      29-04-2019  2       1   4     0        0        0           1           18.791653  22.50605  58.7083  7.832836   2229    4075        6304    1\n",
       "                                                                                                                                                     ..\n",
       "246      03-09-2018  3       0   9     0        6        0           1           27.435847  31.66065  71.6667  12.416775  1935    2549        4484    1\n",
       "247      04-09-2018  3       0   9     0        0        0           1           29.075847  33.27145  74.2083  13.833289  2521    2419        4940    1\n",
       "248      05-09-2018  3       0   9     1        1        0           2           27.606653  31.28230  79.0417  14.250632  1236    2115        3351    1\n",
       "249      06-09-2018  3       0   9     0        2        1           3           22.140000  25.76000  88.6957  23.044181  204     2506        2710    1\n",
       "730      31-12-2019  1       1   12    0        1        1           2           8.849153   11.17435  57.7500  10.374682  439     2290        2729    1\n",
       "Length: 730, dtype: int64"
      ]
     },
     "execution_count": 271,
     "metadata": {},
     "output_type": "execute_result"
    }
   ],
   "source": [
    "bike.value_counts(ascending=False)"
   ]
  },
  {
   "cell_type": "markdown",
   "metadata": {},
   "source": [
    "There seems to be no Unknown values in the entire dataset."
   ]
  },
  {
   "cell_type": "markdown",
   "metadata": {},
   "source": [
    "### Removing redundant & unwanted columns\n",
    "\n",
    "Based on checking data and data dictionary, following variables can be removed from further analysisis: \n",
    "\n",
    "1) **instant** : Its only an index value\n",
    "\n",
    "2) **dteday** : This has the date, Since we already have seperate columns for 'year' & 'month',hence, we could live without this column.\n",
    "\n",
    "3) **casual & registered** : Both these columns contains the count of bike booked by different categories of customers. Since our objective is to find the total count of bikes and not by specific category, we will ignore these two columns. More over, we have created a new variable to have the ratio of these customer types.\n",
    "\n",
    "4) We will save the new dataframe as bike_new, so that the original dataset is preserved for any future analysis/validation"
   ]
  },
  {
   "cell_type": "code",
   "execution_count": 272,
   "metadata": {
    "scrolled": true
   },
   "outputs": [
    {
     "data": {
      "text/plain": [
       "Index(['instant', 'dteday', 'season', 'yr', 'mnth', 'holiday', 'weekday',\n",
       "       'workingday', 'weathersit', 'temp', 'atemp', 'hum', 'windspeed',\n",
       "       'casual', 'registered', 'cnt'],\n",
       "      dtype='object')"
      ]
     },
     "execution_count": 272,
     "metadata": {},
     "output_type": "execute_result"
    }
   ],
   "source": [
    "bike.columns"
   ]
  },
  {
   "cell_type": "markdown",
   "metadata": {},
   "source": [
    "New daraframe without 'instant', 'dteday', 'casual' & 'registered' columns as bike_new"
   ]
  },
  {
   "cell_type": "code",
   "execution_count": 273,
   "metadata": {},
   "outputs": [],
   "source": [
    "bike_new=bike[['season', 'yr', 'mnth', 'holiday', 'weekday','workingday', 'weathersit', 'temp',\n",
    "               'atemp', 'hum', 'windspeed','cnt']]"
   ]
  },
  {
   "cell_type": "code",
   "execution_count": 274,
   "metadata": {},
   "outputs": [
    {
     "data": {
      "text/plain": [
       "(730, 12)"
      ]
     },
     "execution_count": 274,
     "metadata": {},
     "output_type": "execute_result"
    }
   ],
   "source": [
    "bike_new.shape"
   ]
  },
  {
   "cell_type": "markdown",
   "metadata": {},
   "source": [
    "#### Converting 'season','mnth','weekday','weathersit' to Catagorical Variables "
   ]
  },
  {
   "cell_type": "code",
   "execution_count": 275,
   "metadata": {},
   "outputs": [
    {
     "data": {
      "text/plain": [
       "Fall      188\n",
       "Summer    184\n",
       "Spring    180\n",
       "Winter    178\n",
       "Name: season, dtype: int64"
      ]
     },
     "execution_count": 275,
     "metadata": {},
     "output_type": "execute_result"
    }
   ],
   "source": [
    "# Converting 'Season' to a categorical variable\n",
    "bike_new['season'].replace([1, 2, 3, 4], ['Spring', 'Summer', 'Fall', 'Winter'], inplace = True)\n",
    "bike_new['season'].value_counts()"
   ]
  },
  {
   "cell_type": "code",
   "execution_count": 276,
   "metadata": {
    "scrolled": true
   },
   "outputs": [
    {
     "data": {
      "text/plain": [
       "array(['Jan', 'Feb', 'Mar', 'Apr', 'May', 'Jun', 'Jul', 'Aug', 'Sep',\n",
       "       'Oct', 'Nov', 'Dec'], dtype=object)"
      ]
     },
     "execution_count": 276,
     "metadata": {},
     "output_type": "execute_result"
    }
   ],
   "source": [
    "# Converting 'mnth' to categorical variable \n",
    "\n",
    "import calendar\n",
    "\n",
    "bike_new['mnth'] = bike_new['mnth'].apply(lambda x: calendar.month_abbr[x])\n",
    "bike_new['mnth'].unique()"
   ]
  },
  {
   "cell_type": "code",
   "execution_count": 277,
   "metadata": {},
   "outputs": [],
   "source": [
    "# Converting 'weekday' to objectin preparation for making dummy variable\n",
    "\n",
    "bike_new['weekday'] = bike_new['weekday'].astype('object')"
   ]
  },
  {
   "cell_type": "code",
   "execution_count": 278,
   "metadata": {},
   "outputs": [
    {
     "data": {
      "text/plain": [
       "Clear              463\n",
       "Mist_Cloudy        246\n",
       "Light_Snow_Rain     21\n",
       "Name: weathersit, dtype: int64"
      ]
     },
     "execution_count": 278,
     "metadata": {},
     "output_type": "execute_result"
    }
   ],
   "source": [
    "# Converting 'weathersit' to a categorical variable\n",
    "\n",
    "bike_new['weathersit']=bike_new['weathersit'].replace([1, 2, 3], ['Clear', 'Mist_Cloudy', 'Light_Snow_Rain'])\n",
    "bike_new['weathersit'].value_counts()"
   ]
  },
  {
   "cell_type": "code",
   "execution_count": 279,
   "metadata": {
    "scrolled": true
   },
   "outputs": [
    {
     "name": "stdout",
     "output_type": "stream",
     "text": [
      "<class 'pandas.core.frame.DataFrame'>\n",
      "RangeIndex: 730 entries, 0 to 729\n",
      "Data columns (total 12 columns):\n",
      " #   Column      Non-Null Count  Dtype  \n",
      "---  ------      --------------  -----  \n",
      " 0   season      730 non-null    object \n",
      " 1   yr          730 non-null    int64  \n",
      " 2   mnth        730 non-null    object \n",
      " 3   holiday     730 non-null    int64  \n",
      " 4   weekday     730 non-null    object \n",
      " 5   workingday  730 non-null    int64  \n",
      " 6   weathersit  730 non-null    object \n",
      " 7   temp        730 non-null    float64\n",
      " 8   atemp       730 non-null    float64\n",
      " 9   hum         730 non-null    float64\n",
      " 10  windspeed   730 non-null    float64\n",
      " 11  cnt         730 non-null    int64  \n",
      "dtypes: float64(4), int64(4), object(4)\n",
      "memory usage: 68.6+ KB\n"
     ]
    }
   ],
   "source": [
    "bike_new.info()"
   ]
  },
  {
   "cell_type": "markdown",
   "metadata": {},
   "source": [
    "##  Univariate Analysis"
   ]
  },
  {
   "cell_type": "markdown",
   "metadata": {},
   "source": [
    "#### Visualizing Binary Columns "
   ]
  },
  {
   "cell_type": "code",
   "execution_count": 280,
   "metadata": {},
   "outputs": [
    {
     "data": {
      "image/png": "[encoded data removed]",
      "text/plain": [
       "<Figure size 1152x1080 with 3 Axes>"
      ]
     },
     "metadata": {},
     "output_type": "display_data"
    }
   ],
   "source": [
    "plt.figure(figsize = [16,15])\n",
    "plt.subplot(131)\n",
    "bike_new['yr'].value_counts(normalize = True).plot.pie(explode=(0.05, 0), autopct = \"%1.0f%%\", startangle=10)\n",
    "plt.subplot(132) \n",
    "bike_new['holiday'].value_counts(normalize = True).plot.pie(explode=(0.4, 0), autopct = \"%1.0f%%\", startangle=110)\n",
    "plt.subplot(133)\n",
    "bike_new['workingday'].value_counts(normalize = True).plot.pie(explode=(0.05, 0),autopct = \"%1.0f%%\", startangle=10)\n",
    "plt.title('yr, holiday and Workingday',fontsize=30)\n",
    "plt.show()"
   ]
  },
  {
   "cell_type": "markdown",
   "metadata": {},
   "source": [
    "* **Observation**:\n",
    "    - 'Yr' is expected to be 50%-50% daily records of bike usage. \n",
    "    - Significantly less number of holidays(1) as compared to non-holidays(0) hence bike usage is more in 0. \n",
    "    - The same case applies to 'workingday' due to higher number of days vs non-working days."
   ]
  },
  {
   "cell_type": "markdown",
   "metadata": {},
   "source": [
    "#### Visualizing Categorical Variables "
   ]
  },
  {
   "cell_type": "code",
   "execution_count": 281,
   "metadata": {
    "scrolled": false
   },
   "outputs": [
    {
     "data": {
      "image/png": "[encoded data removed]",
      "text/plain": [
       "<Figure size 1440x288 with 4 Axes>"
      ]
     },
     "metadata": {
      "needs_background": "light"
     },
     "output_type": "display_data"
    }
   ],
   "source": [
    "plt.figure(figsize = [20,4])\n",
    "plt.subplot(1,4,1)\n",
    "sns.countplot(data = bike_new, x = 'weathersit')\n",
    "plt.subplot(1,4,2)\n",
    "sns.countplot(data = bike_new, x = 'season')\n",
    "plt.subplot(1,4,3)\n",
    "sns.countplot(data = bike_new, x = 'weekday')\n",
    "plt.subplot(1,4,4)\n",
    "plt.xticks(rotation = 90)\n",
    "sns.countplot(data = bike_new, x = 'mnth')\n",
    "plt.show()"
   ]
  },
  {
   "cell_type": "markdown",
   "metadata": {},
   "source": [
    "* By observing the plots we can came to conclusion that\n",
    "    - When 'weathersit' is Clear, Few clouds, Partly cloudy, Partly cloudy the bikes are usage are more. \n",
    "    - The rest of the variables are shows very close values."
   ]
  },
  {
   "cell_type": "markdown",
   "metadata": {},
   "source": [
    "##  Bivariate Analysis"
   ]
  },
  {
   "cell_type": "markdown",
   "metadata": {},
   "source": [
    "#### Visualizing Numerical Variables vs 'cnt'"
   ]
  },
  {
   "cell_type": "code",
   "execution_count": 282,
   "metadata": {},
   "outputs": [
    {
     "data": {
      "image/png": "[encoded data removed]",
      "text/plain": [
       "<Figure size 1152x288 with 3 Axes>"
      ]
     },
     "metadata": {
      "needs_background": "light"
     },
     "output_type": "display_data"
    }
   ],
   "source": [
    "plt.figure(figsize = [16,4])\n",
    "plt.subplot(1,3,1)\n",
    "sns.barplot('yr', 'cnt', data = bike_new )\n",
    "plt.subplot(1,3,2)\n",
    "sns.barplot('holiday', 'cnt', data = bike_new)\n",
    "plt.subplot(1,3,3)\n",
    "sns.barplot('workingday', 'cnt', data = bike_new)\n",
    "plt.show()"
   ]
  },
  {
   "cell_type": "markdown",
   "metadata": {},
   "source": [
    "* By observing the plots we can came to conclusion that\n",
    "    - There is a increase in number of bike users from year 2018(0) to year 2019(1).\n",
    "    - There are more users during holidays(0) as compared to Non holidays(1).\n",
    "    - There is a very little discrepancy between users of BoomBike on a working day(1) and non-working day(0)."
   ]
  },
  {
   "cell_type": "markdown",
   "metadata": {},
   "source": [
    "#### Visualizing Catagorical Variables Variables vs 'cnt' \n",
    "* Build boxplot of all categorical variables (before creating dummies) againt the target variable 'cnt' \n",
    "* To see how each of the predictor variable stackup against the target variable."
   ]
  },
  {
   "cell_type": "code",
   "execution_count": 283,
   "metadata": {
    "scrolled": true
   },
   "outputs": [
    {
     "data": {
      "image/png": "[encoded data removed]",
      "text/plain": [
       "<Figure size 1440x1440 with 6 Axes>"
      ]
     },
     "metadata": {
      "needs_background": "light"
     },
     "output_type": "display_data"
    }
   ],
   "source": [
    "plt.figure(figsize=(20,20))\n",
    "plt.subplot(3,2,1)\n",
    "sns.boxplot(x = 'season',y='cnt',data=bike)\n",
    "plt.subplot(3,2,2)\n",
    "sns.boxplot(x = 'mnth',y='cnt',data=bike)\n",
    "plt.subplot(3,2,3)\n",
    "sns.boxplot(x = 'weathersit',y='cnt',data=bike)\n",
    "plt.subplot(3,2,4)\n",
    "sns.boxplot(x = 'workingday',y='cnt',data=bike)\n",
    "plt.subplot(3,2,5)\n",
    "sns.boxplot(x = 'holiday',y='cnt',data=bike)\n",
    "plt.subplot(3,2,6)\n",
    "sns.boxplot(x = 'weekday',y='cnt',data=bike)\n",
    "plt.show()\n"
   ]
  },
  {
   "cell_type": "markdown",
   "metadata": {},
   "source": [
    "**Insights**: <br>\n",
    "\n",
    "\n",
    "* **season**: Higest booking happening in season3(fall) with a median of over 5000 booking. This was followed by season2(summer) & season4(winter) of total booking. This indicates, season can be a good predictor for the dependent variable.<br>\n",
    "\n",
    "* **mnth**: Bike booking is quite high in the months 5,6,7,8 & 9 with a median of over 4000 booking per month. This indicates, mnth has some trend for bookings and can be a good predictor for the dependent variable.<br>\n",
    "\n",
    "* **weathersit**: Almost 67% of the bike booking were happening during ‘weathersit1 with a median of close to 5000 booking. This was followed by weathersit2. This indicates, weathersit does show some trend towards the bike bookings and can be a good predictor for the dependent variable.<br>\n",
    "\n",
    "* **holiday**: The bike booking were happening mostly when it is not a holiday which indicates the data could be biased. We  should consider not using it as a predictor for the dependent variable.<br>\n",
    "\n",
    "* **weekday**: weekday variable shows very close trend. This variable can have some or no influence towards the predictor. I will let the model decide if this needs to be added or not.<br>\n",
    "\n",
    "* **workingday**: Median is quite close. Lets see how model decides about workingday<br>\n",
    "\n"
   ]
  },
  {
   "cell_type": "markdown",
   "metadata": {},
   "source": [
    "##   Correlation Matrix"
   ]
  },
  {
   "cell_type": "code",
   "execution_count": 284,
   "metadata": {
    "scrolled": true
   },
   "outputs": [
    {
     "data": {
      "image/png": "[encoded data removed]",
      "text/plain": [
       "<Figure size 1800x1440 with 2 Axes>"
      ]
     },
     "metadata": {
      "needs_background": "light"
     },
     "output_type": "display_data"
    }
   ],
   "source": [
    "# Let's check the correlation coefficients to see which variables are highly correlated. Note:\n",
    "# here we are considering only those variables (dataframe: bike_new) that were chosen for analysis\n",
    "\n",
    "plt.figure(figsize = (25,20))\n",
    "sns.heatmap(bike_new.corr(), annot = True, cmap=\"RdBu\")\n",
    "plt.show()"
   ]
  },
  {
   "cell_type": "markdown",
   "metadata": {},
   "source": [
    "**Insights:**<br>\n",
    "\n",
    "* The heatmap clearly shows which all variable are multicollinear in nature, and which variable have high collinearity with the target variable.<br>\n",
    "\n",
    "* We will refer this map back-and-forth while building the linear model so as to validate different correlated values along with VIF & p-value, for identifying the correct variable to select/eliminate from the model.<br>"
   ]
  },
  {
   "cell_type": "markdown",
   "metadata": {},
   "source": [
    "# Creating Dummy Variables"
   ]
  },
  {
   "cell_type": "markdown",
   "metadata": {},
   "source": [
    "We will create DUMMY variables for 4 categorical variables 'mnth', 'weekday', 'season' & 'weathersit'."
   ]
  },
  {
   "cell_type": "markdown",
   "metadata": {},
   "source": [
    "This below code does 3 things:<br>\n",
    "        1) Create Dummy variable. <br>\n",
    "        2) Drop original variable for which the dummy was created. <br>\n",
    "        3) Drop first dummy variable for each set of dummies created."
   ]
  },
  {
   "cell_type": "code",
   "execution_count": 285,
   "metadata": {},
   "outputs": [
    {
     "name": "stdout",
     "output_type": "stream",
     "text": [
      "<class 'pandas.core.frame.DataFrame'>\n",
      "RangeIndex: 730 entries, 0 to 729\n",
      "Data columns (total 30 columns):\n",
      " #   Column                      Non-Null Count  Dtype  \n",
      "---  ------                      --------------  -----  \n",
      " 0   yr                          730 non-null    int64  \n",
      " 1   holiday                     730 non-null    int64  \n",
      " 2   workingday                  730 non-null    int64  \n",
      " 3   temp                        730 non-null    float64\n",
      " 4   atemp                       730 non-null    float64\n",
      " 5   hum                         730 non-null    float64\n",
      " 6   windspeed                   730 non-null    float64\n",
      " 7   cnt                         730 non-null    int64  \n",
      " 8   season_Spring               730 non-null    uint8  \n",
      " 9   season_Summer               730 non-null    uint8  \n",
      " 10  season_Winter               730 non-null    uint8  \n",
      " 11  mnth_Aug                    730 non-null    uint8  \n",
      " 12  mnth_Dec                    730 non-null    uint8  \n",
      " 13  mnth_Feb                    730 non-null    uint8  \n",
      " 14  mnth_Jan                    730 non-null    uint8  \n",
      " 15  mnth_Jul                    730 non-null    uint8  \n",
      " 16  mnth_Jun                    730 non-null    uint8  \n",
      " 17  mnth_Mar                    730 non-null    uint8  \n",
      " 18  mnth_May                    730 non-null    uint8  \n",
      " 19  mnth_Nov                    730 non-null    uint8  \n",
      " 20  mnth_Oct                    730 non-null    uint8  \n",
      " 21  mnth_Sep                    730 non-null    uint8  \n",
      " 22  weekday_1                   730 non-null    uint8  \n",
      " 23  weekday_2                   730 non-null    uint8  \n",
      " 24  weekday_3                   730 non-null    uint8  \n",
      " 25  weekday_4                   730 non-null    uint8  \n",
      " 26  weekday_5                   730 non-null    uint8  \n",
      " 27  weekday_6                   730 non-null    uint8  \n",
      " 28  weathersit_Light_Snow_Rain  730 non-null    uint8  \n",
      " 29  weathersit_Mist_Cloudy      730 non-null    uint8  \n",
      "dtypes: float64(4), int64(4), uint8(22)\n",
      "memory usage: 61.4 KB\n"
     ]
    }
   ],
   "source": [
    "bike_new = pd.get_dummies(bike_new, drop_first=True)\n",
    "bike_new.info()"
   ]
  },
  {
   "cell_type": "code",
   "execution_count": 286,
   "metadata": {},
   "outputs": [
    {
     "data": {
      "text/plain": [
       "(730, 30)"
      ]
     },
     "execution_count": 286,
     "metadata": {},
     "output_type": "execute_result"
    }
   ],
   "source": [
    "bike_new.shape"
   ]
  },
  {
   "cell_type": "code",
   "execution_count": 287,
   "metadata": {
    "scrolled": false
   },
   "outputs": [
    {
     "data": {
      "text/plain": [
       "Index(['yr', 'holiday', 'workingday', 'temp', 'atemp', 'hum', 'windspeed',\n",
       "       'cnt', 'season_Spring', 'season_Summer', 'season_Winter', 'mnth_Aug',\n",
       "       'mnth_Dec', 'mnth_Feb', 'mnth_Jan', 'mnth_Jul', 'mnth_Jun', 'mnth_Mar',\n",
       "       'mnth_May', 'mnth_Nov', 'mnth_Oct', 'mnth_Sep', 'weekday_1',\n",
       "       'weekday_2', 'weekday_3', 'weekday_4', 'weekday_5', 'weekday_6',\n",
       "       'weathersit_Light_Snow_Rain', 'weathersit_Mist_Cloudy'],\n",
       "      dtype='object')"
      ]
     },
     "execution_count": 287,
     "metadata": {},
     "output_type": "execute_result"
    }
   ],
   "source": [
    "bike_new.columns"
   ]
  },
  {
   "cell_type": "markdown",
   "metadata": {},
   "source": [
    "# Splitting the data\n",
    "Splitting the data to **Train** and **Test** in 70:30 ratio using train_test_split from sklearn package "
   ]
  },
  {
   "cell_type": "code",
   "execution_count": 288,
   "metadata": {},
   "outputs": [
    {
     "data": {
      "text/plain": [
       "(730, 30)"
      ]
     },
     "execution_count": 288,
     "metadata": {},
     "output_type": "execute_result"
    }
   ],
   "source": [
    "bike_new.shape"
   ]
  },
  {
   "cell_type": "code",
   "execution_count": 289,
   "metadata": {
    "scrolled": true
   },
   "outputs": [
    {
     "name": "stdout",
     "output_type": "stream",
     "text": [
      "<class 'pandas.core.frame.DataFrame'>\n",
      "RangeIndex: 730 entries, 0 to 729\n",
      "Data columns (total 30 columns):\n",
      " #   Column                      Non-Null Count  Dtype  \n",
      "---  ------                      --------------  -----  \n",
      " 0   yr                          730 non-null    int64  \n",
      " 1   holiday                     730 non-null    int64  \n",
      " 2   workingday                  730 non-null    int64  \n",
      " 3   temp                        730 non-null    float64\n",
      " 4   atemp                       730 non-null    float64\n",
      " 5   hum                         730 non-null    float64\n",
      " 6   windspeed                   730 non-null    float64\n",
      " 7   cnt                         730 non-null    int64  \n",
      " 8   season_Spring               730 non-null    uint8  \n",
      " 9   season_Summer               730 non-null    uint8  \n",
      " 10  season_Winter               730 non-null    uint8  \n",
      " 11  mnth_Aug                    730 non-null    uint8  \n",
      " 12  mnth_Dec                    730 non-null    uint8  \n",
      " 13  mnth_Feb                    730 non-null    uint8  \n",
      " 14  mnth_Jan                    730 non-null    uint8  \n",
      " 15  mnth_Jul                    730 non-null    uint8  \n",
      " 16  mnth_Jun                    730 non-null    uint8  \n",
      " 17  mnth_Mar                    730 non-null    uint8  \n",
      " 18  mnth_May                    730 non-null    uint8  \n",
      " 19  mnth_Nov                    730 non-null    uint8  \n",
      " 20  mnth_Oct                    730 non-null    uint8  \n",
      " 21  mnth_Sep                    730 non-null    uint8  \n",
      " 22  weekday_1                   730 non-null    uint8  \n",
      " 23  weekday_2                   730 non-null    uint8  \n",
      " 24  weekday_3                   730 non-null    uint8  \n",
      " 25  weekday_4                   730 non-null    uint8  \n",
      " 26  weekday_5                   730 non-null    uint8  \n",
      " 27  weekday_6                   730 non-null    uint8  \n",
      " 28  weathersit_Light_Snow_Rain  730 non-null    uint8  \n",
      " 29  weathersit_Mist_Cloudy      730 non-null    uint8  \n",
      "dtypes: float64(4), int64(4), uint8(22)\n",
      "memory usage: 61.4 KB\n"
     ]
    }
   ],
   "source": [
    "bike_new.info()"
   ]
  },
  {
   "cell_type": "code",
   "execution_count": 290,
   "metadata": {},
   "outputs": [],
   "source": [
    "import sklearn\n",
    "from sklearn.model_selection import train_test_split"
   ]
  },
  {
   "cell_type": "markdown",
   "metadata": {},
   "source": [
    "* We should specify 'random_state' so that the train and test data set always have the same rows, respectively"
   ]
  },
  {
   "cell_type": "code",
   "execution_count": 291,
   "metadata": {},
   "outputs": [],
   "source": [
    "df_train, df_test = train_test_split(bike_new, train_size = 0.70, test_size = 0.30, random_state = 333)"
   ]
  },
  {
   "cell_type": "markdown",
   "metadata": {},
   "source": [
    "* Verify the info and shape of the dataframes after split:"
   ]
  },
  {
   "cell_type": "code",
   "execution_count": 292,
   "metadata": {
    "scrolled": true
   },
   "outputs": [
    {
     "name": "stdout",
     "output_type": "stream",
     "text": [
      "<class 'pandas.core.frame.DataFrame'>\n",
      "Int64Index: 510 entries, 483 to 366\n",
      "Data columns (total 30 columns):\n",
      " #   Column                      Non-Null Count  Dtype  \n",
      "---  ------                      --------------  -----  \n",
      " 0   yr                          510 non-null    int64  \n",
      " 1   holiday                     510 non-null    int64  \n",
      " 2   workingday                  510 non-null    int64  \n",
      " 3   temp                        510 non-null    float64\n",
      " 4   atemp                       510 non-null    float64\n",
      " 5   hum                         510 non-null    float64\n",
      " 6   windspeed                   510 non-null    float64\n",
      " 7   cnt                         510 non-null    int64  \n",
      " 8   season_Spring               510 non-null    uint8  \n",
      " 9   season_Summer               510 non-null    uint8  \n",
      " 10  season_Winter               510 non-null    uint8  \n",
      " 11  mnth_Aug                    510 non-null    uint8  \n",
      " 12  mnth_Dec                    510 non-null    uint8  \n",
      " 13  mnth_Feb                    510 non-null    uint8  \n",
      " 14  mnth_Jan                    510 non-null    uint8  \n",
      " 15  mnth_Jul                    510 non-null    uint8  \n",
      " 16  mnth_Jun                    510 non-null    uint8  \n",
      " 17  mnth_Mar                    510 non-null    uint8  \n",
      " 18  mnth_May                    510 non-null    uint8  \n",
      " 19  mnth_Nov                    510 non-null    uint8  \n",
      " 20  mnth_Oct                    510 non-null    uint8  \n",
      " 21  mnth_Sep                    510 non-null    uint8  \n",
      " 22  weekday_1                   510 non-null    uint8  \n",
      " 23  weekday_2                   510 non-null    uint8  \n",
      " 24  weekday_3                   510 non-null    uint8  \n",
      " 25  weekday_4                   510 non-null    uint8  \n",
      " 26  weekday_5                   510 non-null    uint8  \n",
      " 27  weekday_6                   510 non-null    uint8  \n",
      " 28  weathersit_Light_Snow_Rain  510 non-null    uint8  \n",
      " 29  weathersit_Mist_Cloudy      510 non-null    uint8  \n",
      "dtypes: float64(4), int64(4), uint8(22)\n",
      "memory usage: 46.8 KB\n"
     ]
    }
   ],
   "source": [
    "df_train.info()"
   ]
  },
  {
   "cell_type": "code",
   "execution_count": 293,
   "metadata": {},
   "outputs": [
    {
     "data": {
      "text/plain": [
       "(510, 30)"
      ]
     },
     "execution_count": 293,
     "metadata": {},
     "output_type": "execute_result"
    }
   ],
   "source": [
    "df_train.shape"
   ]
  },
  {
   "cell_type": "code",
   "execution_count": 294,
   "metadata": {
    "scrolled": true
   },
   "outputs": [
    {
     "name": "stdout",
     "output_type": "stream",
     "text": [
      "<class 'pandas.core.frame.DataFrame'>\n",
      "Int64Index: 219 entries, 22 to 313\n",
      "Data columns (total 30 columns):\n",
      " #   Column                      Non-Null Count  Dtype  \n",
      "---  ------                      --------------  -----  \n",
      " 0   yr                          219 non-null    int64  \n",
      " 1   holiday                     219 non-null    int64  \n",
      " 2   workingday                  219 non-null    int64  \n",
      " 3   temp                        219 non-null    float64\n",
      " 4   atemp                       219 non-null    float64\n",
      " 5   hum                         219 non-null    float64\n",
      " 6   windspeed                   219 non-null    float64\n",
      " 7   cnt                         219 non-null    int64  \n",
      " 8   season_Spring               219 non-null    uint8  \n",
      " 9   season_Summer               219 non-null    uint8  \n",
      " 10  season_Winter               219 non-null    uint8  \n",
      " 11  mnth_Aug                    219 non-null    uint8  \n",
      " 12  mnth_Dec                    219 non-null    uint8  \n",
      " 13  mnth_Feb                    219 non-null    uint8  \n",
      " 14  mnth_Jan                    219 non-null    uint8  \n",
      " 15  mnth_Jul                    219 non-null    uint8  \n",
      " 16  mnth_Jun                    219 non-null    uint8  \n",
      " 17  mnth_Mar                    219 non-null    uint8  \n",
      " 18  mnth_May                    219 non-null    uint8  \n",
      " 19  mnth_Nov                    219 non-null    uint8  \n",
      " 20  mnth_Oct                    219 non-null    uint8  \n",
      " 21  mnth_Sep                    219 non-null    uint8  \n",
      " 22  weekday_1                   219 non-null    uint8  \n",
      " 23  weekday_2                   219 non-null    uint8  \n",
      " 24  weekday_3                   219 non-null    uint8  \n",
      " 25  weekday_4                   219 non-null    uint8  \n",
      " 26  weekday_5                   219 non-null    uint8  \n",
      " 27  weekday_6                   219 non-null    uint8  \n",
      " 28  weathersit_Light_Snow_Rain  219 non-null    uint8  \n",
      " 29  weathersit_Mist_Cloudy      219 non-null    uint8  \n",
      "dtypes: float64(4), int64(4), uint8(22)\n",
      "memory usage: 20.1 KB\n"
     ]
    }
   ],
   "source": [
    "df_test.info()"
   ]
  },
  {
   "cell_type": "code",
   "execution_count": 295,
   "metadata": {},
   "outputs": [
    {
     "data": {
      "text/plain": [
       "(219, 30)"
      ]
     },
     "execution_count": 295,
     "metadata": {},
     "output_type": "execute_result"
    }
   ],
   "source": [
    "df_test.shape"
   ]
  },
  {
   "cell_type": "code",
   "execution_count": 296,
   "metadata": {
    "scrolled": false
   },
   "outputs": [
    {
     "name": "stdout",
     "output_type": "stream",
     "text": [
      "<class 'pandas.core.frame.DataFrame'>\n",
      "Int64Index: 510 entries, 483 to 366\n",
      "Data columns (total 30 columns):\n",
      " #   Column                      Non-Null Count  Dtype  \n",
      "---  ------                      --------------  -----  \n",
      " 0   yr                          510 non-null    int64  \n",
      " 1   holiday                     510 non-null    int64  \n",
      " 2   workingday                  510 non-null    int64  \n",
      " 3   temp                        510 non-null    float64\n",
      " 4   atemp                       510 non-null    float64\n",
      " 5   hum                         510 non-null    float64\n",
      " 6   windspeed                   510 non-null    float64\n",
      " 7   cnt                         510 non-null    int64  \n",
      " 8   season_Spring               510 non-null    uint8  \n",
      " 9   season_Summer               510 non-null    uint8  \n",
      " 10  season_Winter               510 non-null    uint8  \n",
      " 11  mnth_Aug                    510 non-null    uint8  \n",
      " 12  mnth_Dec                    510 non-null    uint8  \n",
      " 13  mnth_Feb                    510 non-null    uint8  \n",
      " 14  mnth_Jan                    510 non-null    uint8  \n",
      " 15  mnth_Jul                    510 non-null    uint8  \n",
      " 16  mnth_Jun                    510 non-null    uint8  \n",
      " 17  mnth_Mar                    510 non-null    uint8  \n",
      " 18  mnth_May                    510 non-null    uint8  \n",
      " 19  mnth_Nov                    510 non-null    uint8  \n",
      " 20  mnth_Oct                    510 non-null    uint8  \n",
      " 21  mnth_Sep                    510 non-null    uint8  \n",
      " 22  weekday_1                   510 non-null    uint8  \n",
      " 23  weekday_2                   510 non-null    uint8  \n",
      " 24  weekday_3                   510 non-null    uint8  \n",
      " 25  weekday_4                   510 non-null    uint8  \n",
      " 26  weekday_5                   510 non-null    uint8  \n",
      " 27  weekday_6                   510 non-null    uint8  \n",
      " 28  weathersit_Light_Snow_Rain  510 non-null    uint8  \n",
      " 29  weathersit_Mist_Cloudy      510 non-null    uint8  \n",
      "dtypes: float64(4), int64(4), uint8(22)\n",
      "memory usage: 46.8 KB\n"
     ]
    }
   ],
   "source": [
    "df_train.info()"
   ]
  },
  {
   "cell_type": "code",
   "execution_count": 297,
   "metadata": {},
   "outputs": [
    {
     "data": {
      "text/plain": [
       "Index(['yr', 'holiday', 'workingday', 'temp', 'atemp', 'hum', 'windspeed',\n",
       "       'cnt', 'season_Spring', 'season_Summer', 'season_Winter', 'mnth_Aug',\n",
       "       'mnth_Dec', 'mnth_Feb', 'mnth_Jan', 'mnth_Jul', 'mnth_Jun', 'mnth_Mar',\n",
       "       'mnth_May', 'mnth_Nov', 'mnth_Oct', 'mnth_Sep', 'weekday_1',\n",
       "       'weekday_2', 'weekday_3', 'weekday_4', 'weekday_5', 'weekday_6',\n",
       "       'weathersit_Light_Snow_Rain', 'weathersit_Mist_Cloudy'],\n",
       "      dtype='object')"
      ]
     },
     "execution_count": 297,
     "metadata": {},
     "output_type": "execute_result"
    }
   ],
   "source": [
    "df_train.columns"
   ]
  },
  {
   "cell_type": "markdown",
   "metadata": {},
   "source": [
    "* By Observing tha data we can say that 'temp', 'atemp', 'hum', 'windspeed','cnt' are the numerical variables "
   ]
  },
  {
   "cell_type": "markdown",
   "metadata": {},
   "source": [
    "Let's make a pairplot of all the numeric variables<br>"
   ]
  },
  {
   "cell_type": "code",
   "execution_count": 298,
   "metadata": {
    "scrolled": true
   },
   "outputs": [
    {
     "data": {
      "image/png": "[encoded data removed]",
      "text/plain": [
       "<Figure size 900x900 with 30 Axes>"
      ]
     },
     "metadata": {
      "needs_background": "light"
     },
     "output_type": "display_data"
    }
   ],
   "source": [
    "# Create a new dataframe of only numeric variables:\n",
    "\n",
    "bike_num=df_train[[ 'temp', 'atemp', 'hum', 'windspeed','cnt']]\n",
    "sns.pairplot(bike_num, diag_kind='kde')\n",
    "plt.show()"
   ]
  },
  {
   "cell_type": "markdown",
   "metadata": {},
   "source": [
    "The above Pair-Plot  tells us that there is a LINEAR RELATION between 'temp','atemp' and 'cnt'"
   ]
  },
  {
   "cell_type": "code",
   "execution_count": 299,
   "metadata": {
    "scrolled": true
   },
   "outputs": [
    {
     "data": {
      "image/png": "[encoded data removed]",
      "text/plain": [
       "<Figure size 864x504 with 2 Axes>"
      ]
     },
     "metadata": {
      "needs_background": "light"
     },
     "output_type": "display_data"
    }
   ],
   "source": [
    "plt.figure(figsize = (12,7))\n",
    "sns.heatmap(bike_num.corr(), annot = True, cmap=\"RdBu\")\n",
    "#plt.xticks(rotation = 90)\n",
    "plt.yticks(rotation = 0)\n",
    "plt.show()"
   ]
  },
  {
   "cell_type": "markdown",
   "metadata": {},
   "source": [
    "The above correlation plot tells us that there is a high correlation between 'temp','atemp' vs 'cnt'"
   ]
  },
  {
   "cell_type": "markdown",
   "metadata": {},
   "source": [
    "## RESCALING THE FEATURES"
   ]
  },
  {
   "cell_type": "code",
   "execution_count": 300,
   "metadata": {},
   "outputs": [],
   "source": [
    "from sklearn.preprocessing import MinMaxScaler"
   ]
  },
  {
   "cell_type": "code",
   "execution_count": 301,
   "metadata": {},
   "outputs": [],
   "source": [
    "scaler = MinMaxScaler()"
   ]
  },
  {
   "cell_type": "code",
   "execution_count": 302,
   "metadata": {},
   "outputs": [
    {
     "data": {
      "text/html": [
       "<div>\n",
       "<style scoped>\n",
       "    .dataframe tbody tr th:only-of-type {\n",
       "        vertical-align: middle;\n",
       "    }\n",
       "\n",
       "    .dataframe tbody tr th {\n",
       "        vertical-align: top;\n",
       "    }\n",
       "\n",
       "    .dataframe thead th {\n",
       "        text-align: right;\n",
       "    }\n",
       "</style>\n",
       "<table border=\"1\" class=\"dataframe\">\n",
       "  <thead>\n",
       "    <tr style=\"text-align: right;\">\n",
       "      <th></th>\n",
       "      <th>yr</th>\n",
       "      <th>holiday</th>\n",
       "      <th>workingday</th>\n",
       "      <th>temp</th>\n",
       "      <th>atemp</th>\n",
       "      <th>hum</th>\n",
       "      <th>windspeed</th>\n",
       "      <th>cnt</th>\n",
       "      <th>season_Spring</th>\n",
       "      <th>season_Summer</th>\n",
       "      <th>...</th>\n",
       "      <th>mnth_Oct</th>\n",
       "      <th>mnth_Sep</th>\n",
       "      <th>weekday_1</th>\n",
       "      <th>weekday_2</th>\n",
       "      <th>weekday_3</th>\n",
       "      <th>weekday_4</th>\n",
       "      <th>weekday_5</th>\n",
       "      <th>weekday_6</th>\n",
       "      <th>weathersit_Light_Snow_Rain</th>\n",
       "      <th>weathersit_Mist_Cloudy</th>\n",
       "    </tr>\n",
       "  </thead>\n",
       "  <tbody>\n",
       "    <tr>\n",
       "      <th>483</th>\n",
       "      <td>1</td>\n",
       "      <td>0</td>\n",
       "      <td>0</td>\n",
       "      <td>18.791653</td>\n",
       "      <td>22.50605</td>\n",
       "      <td>58.7083</td>\n",
       "      <td>7.832836</td>\n",
       "      <td>6304</td>\n",
       "      <td>0</td>\n",
       "      <td>1</td>\n",
       "      <td>...</td>\n",
       "      <td>0</td>\n",
       "      <td>0</td>\n",
       "      <td>0</td>\n",
       "      <td>0</td>\n",
       "      <td>0</td>\n",
       "      <td>0</td>\n",
       "      <td>0</td>\n",
       "      <td>0</td>\n",
       "      <td>0</td>\n",
       "      <td>0</td>\n",
       "    </tr>\n",
       "    <tr>\n",
       "      <th>650</th>\n",
       "      <td>1</td>\n",
       "      <td>0</td>\n",
       "      <td>0</td>\n",
       "      <td>16.126653</td>\n",
       "      <td>19.56980</td>\n",
       "      <td>49.4583</td>\n",
       "      <td>9.791514</td>\n",
       "      <td>7109</td>\n",
       "      <td>0</td>\n",
       "      <td>0</td>\n",
       "      <td>...</td>\n",
       "      <td>1</td>\n",
       "      <td>0</td>\n",
       "      <td>0</td>\n",
       "      <td>0</td>\n",
       "      <td>0</td>\n",
       "      <td>0</td>\n",
       "      <td>0</td>\n",
       "      <td>1</td>\n",
       "      <td>0</td>\n",
       "      <td>0</td>\n",
       "    </tr>\n",
       "    <tr>\n",
       "      <th>212</th>\n",
       "      <td>0</td>\n",
       "      <td>0</td>\n",
       "      <td>1</td>\n",
       "      <td>31.638347</td>\n",
       "      <td>35.16460</td>\n",
       "      <td>55.0833</td>\n",
       "      <td>10.500039</td>\n",
       "      <td>4266</td>\n",
       "      <td>0</td>\n",
       "      <td>0</td>\n",
       "      <td>...</td>\n",
       "      <td>0</td>\n",
       "      <td>0</td>\n",
       "      <td>1</td>\n",
       "      <td>0</td>\n",
       "      <td>0</td>\n",
       "      <td>0</td>\n",
       "      <td>0</td>\n",
       "      <td>0</td>\n",
       "      <td>0</td>\n",
       "      <td>0</td>\n",
       "    </tr>\n",
       "    <tr>\n",
       "      <th>714</th>\n",
       "      <td>1</td>\n",
       "      <td>0</td>\n",
       "      <td>0</td>\n",
       "      <td>14.862500</td>\n",
       "      <td>18.49690</td>\n",
       "      <td>83.8750</td>\n",
       "      <td>6.749714</td>\n",
       "      <td>3786</td>\n",
       "      <td>0</td>\n",
       "      <td>0</td>\n",
       "      <td>...</td>\n",
       "      <td>0</td>\n",
       "      <td>0</td>\n",
       "      <td>0</td>\n",
       "      <td>0</td>\n",
       "      <td>0</td>\n",
       "      <td>0</td>\n",
       "      <td>0</td>\n",
       "      <td>0</td>\n",
       "      <td>0</td>\n",
       "      <td>1</td>\n",
       "    </tr>\n",
       "    <tr>\n",
       "      <th>8</th>\n",
       "      <td>0</td>\n",
       "      <td>0</td>\n",
       "      <td>0</td>\n",
       "      <td>5.671653</td>\n",
       "      <td>5.80875</td>\n",
       "      <td>43.4167</td>\n",
       "      <td>24.250650</td>\n",
       "      <td>822</td>\n",
       "      <td>1</td>\n",
       "      <td>0</td>\n",
       "      <td>...</td>\n",
       "      <td>0</td>\n",
       "      <td>0</td>\n",
       "      <td>0</td>\n",
       "      <td>0</td>\n",
       "      <td>0</td>\n",
       "      <td>0</td>\n",
       "      <td>0</td>\n",
       "      <td>0</td>\n",
       "      <td>0</td>\n",
       "      <td>0</td>\n",
       "    </tr>\n",
       "  </tbody>\n",
       "</table>\n",
       "<p>5 rows × 30 columns</p>\n",
       "</div>"
      ],
      "text/plain": [
       "     yr  holiday  workingday       temp     atemp      hum  windspeed   cnt  \\\n",
       "483   1        0           0  18.791653  22.50605  58.7083   7.832836  6304   \n",
       "650   1        0           0  16.126653  19.56980  49.4583   9.791514  7109   \n",
       "212   0        0           1  31.638347  35.16460  55.0833  10.500039  4266   \n",
       "714   1        0           0  14.862500  18.49690  83.8750   6.749714  3786   \n",
       "8     0        0           0   5.671653   5.80875  43.4167  24.250650   822   \n",
       "\n",
       "     season_Spring  season_Summer  ...  mnth_Oct  mnth_Sep  weekday_1  \\\n",
       "483              0              1  ...         0         0          0   \n",
       "650              0              0  ...         1         0          0   \n",
       "212              0              0  ...         0         0          1   \n",
       "714              0              0  ...         0         0          0   \n",
       "8                1              0  ...         0         0          0   \n",
       "\n",
       "     weekday_2  weekday_3  weekday_4  weekday_5  weekday_6  \\\n",
       "483          0          0          0          0          0   \n",
       "650          0          0          0          0          1   \n",
       "212          0          0          0          0          0   \n",
       "714          0          0          0          0          0   \n",
       "8            0          0          0          0          0   \n",
       "\n",
       "     weathersit_Light_Snow_Rain  weathersit_Mist_Cloudy  \n",
       "483                           0                       0  \n",
       "650                           0                       0  \n",
       "212                           0                       0  \n",
       "714                           0                       1  \n",
       "8                             0                       0  \n",
       "\n",
       "[5 rows x 30 columns]"
      ]
     },
     "execution_count": 302,
     "metadata": {},
     "output_type": "execute_result"
    }
   ],
   "source": [
    "# Checking the values before scaling\n",
    "df_train.head()"
   ]
  },
  {
   "cell_type": "code",
   "execution_count": 303,
   "metadata": {},
   "outputs": [
    {
     "data": {
      "text/plain": [
       "Index(['yr', 'holiday', 'workingday', 'temp', 'atemp', 'hum', 'windspeed',\n",
       "       'cnt', 'season_Spring', 'season_Summer', 'season_Winter', 'mnth_Aug',\n",
       "       'mnth_Dec', 'mnth_Feb', 'mnth_Jan', 'mnth_Jul', 'mnth_Jun', 'mnth_Mar',\n",
       "       'mnth_May', 'mnth_Nov', 'mnth_Oct', 'mnth_Sep', 'weekday_1',\n",
       "       'weekday_2', 'weekday_3', 'weekday_4', 'weekday_5', 'weekday_6',\n",
       "       'weathersit_Light_Snow_Rain', 'weathersit_Mist_Cloudy'],\n",
       "      dtype='object')"
      ]
     },
     "execution_count": 303,
     "metadata": {},
     "output_type": "execute_result"
    }
   ],
   "source": [
    "df_train.columns"
   ]
  },
  {
   "cell_type": "code",
   "execution_count": 304,
   "metadata": {},
   "outputs": [],
   "source": [
    "# Apply scaler() to all the numeric variables\n",
    "\n",
    "num_vars = ['temp', 'atemp', 'hum', 'windspeed','cnt']\n",
    "\n",
    "df_train[num_vars] = scaler.fit_transform(df_train[num_vars])"
   ]
  },
  {
   "cell_type": "code",
   "execution_count": 305,
   "metadata": {},
   "outputs": [
    {
     "data": {
      "text/html": [
       "<div>\n",
       "<style scoped>\n",
       "    .dataframe tbody tr th:only-of-type {\n",
       "        vertical-align: middle;\n",
       "    }\n",
       "\n",
       "    .dataframe tbody tr th {\n",
       "        vertical-align: top;\n",
       "    }\n",
       "\n",
       "    .dataframe thead th {\n",
       "        text-align: right;\n",
       "    }\n",
       "</style>\n",
       "<table border=\"1\" class=\"dataframe\">\n",
       "  <thead>\n",
       "    <tr style=\"text-align: right;\">\n",
       "      <th></th>\n",
       "      <th>yr</th>\n",
       "      <th>holiday</th>\n",
       "      <th>workingday</th>\n",
       "      <th>temp</th>\n",
       "      <th>atemp</th>\n",
       "      <th>hum</th>\n",
       "      <th>windspeed</th>\n",
       "      <th>cnt</th>\n",
       "      <th>season_Spring</th>\n",
       "      <th>season_Summer</th>\n",
       "      <th>...</th>\n",
       "      <th>mnth_Oct</th>\n",
       "      <th>mnth_Sep</th>\n",
       "      <th>weekday_1</th>\n",
       "      <th>weekday_2</th>\n",
       "      <th>weekday_3</th>\n",
       "      <th>weekday_4</th>\n",
       "      <th>weekday_5</th>\n",
       "      <th>weekday_6</th>\n",
       "      <th>weathersit_Light_Snow_Rain</th>\n",
       "      <th>weathersit_Mist_Cloudy</th>\n",
       "    </tr>\n",
       "  </thead>\n",
       "  <tbody>\n",
       "    <tr>\n",
       "      <th>483</th>\n",
       "      <td>1</td>\n",
       "      <td>0</td>\n",
       "      <td>0</td>\n",
       "      <td>0.497426</td>\n",
       "      <td>0.487055</td>\n",
       "      <td>0.609956</td>\n",
       "      <td>0.194850</td>\n",
       "      <td>0.722734</td>\n",
       "      <td>0</td>\n",
       "      <td>1</td>\n",
       "      <td>...</td>\n",
       "      <td>0</td>\n",
       "      <td>0</td>\n",
       "      <td>0</td>\n",
       "      <td>0</td>\n",
       "      <td>0</td>\n",
       "      <td>0</td>\n",
       "      <td>0</td>\n",
       "      <td>0</td>\n",
       "      <td>0</td>\n",
       "      <td>0</td>\n",
       "    </tr>\n",
       "    <tr>\n",
       "      <th>650</th>\n",
       "      <td>1</td>\n",
       "      <td>0</td>\n",
       "      <td>0</td>\n",
       "      <td>0.416433</td>\n",
       "      <td>0.409971</td>\n",
       "      <td>0.513852</td>\n",
       "      <td>0.255118</td>\n",
       "      <td>0.815347</td>\n",
       "      <td>0</td>\n",
       "      <td>0</td>\n",
       "      <td>...</td>\n",
       "      <td>1</td>\n",
       "      <td>0</td>\n",
       "      <td>0</td>\n",
       "      <td>0</td>\n",
       "      <td>0</td>\n",
       "      <td>0</td>\n",
       "      <td>0</td>\n",
       "      <td>1</td>\n",
       "      <td>0</td>\n",
       "      <td>0</td>\n",
       "    </tr>\n",
       "    <tr>\n",
       "      <th>212</th>\n",
       "      <td>0</td>\n",
       "      <td>0</td>\n",
       "      <td>1</td>\n",
       "      <td>0.887856</td>\n",
       "      <td>0.819376</td>\n",
       "      <td>0.572294</td>\n",
       "      <td>0.276919</td>\n",
       "      <td>0.488265</td>\n",
       "      <td>0</td>\n",
       "      <td>0</td>\n",
       "      <td>...</td>\n",
       "      <td>0</td>\n",
       "      <td>0</td>\n",
       "      <td>1</td>\n",
       "      <td>0</td>\n",
       "      <td>0</td>\n",
       "      <td>0</td>\n",
       "      <td>0</td>\n",
       "      <td>0</td>\n",
       "      <td>0</td>\n",
       "      <td>0</td>\n",
       "    </tr>\n",
       "    <tr>\n",
       "      <th>714</th>\n",
       "      <td>1</td>\n",
       "      <td>0</td>\n",
       "      <td>0</td>\n",
       "      <td>0.378013</td>\n",
       "      <td>0.381804</td>\n",
       "      <td>0.871429</td>\n",
       "      <td>0.161523</td>\n",
       "      <td>0.433042</td>\n",
       "      <td>0</td>\n",
       "      <td>0</td>\n",
       "      <td>...</td>\n",
       "      <td>0</td>\n",
       "      <td>0</td>\n",
       "      <td>0</td>\n",
       "      <td>0</td>\n",
       "      <td>0</td>\n",
       "      <td>0</td>\n",
       "      <td>0</td>\n",
       "      <td>0</td>\n",
       "      <td>0</td>\n",
       "      <td>1</td>\n",
       "    </tr>\n",
       "    <tr>\n",
       "      <th>8</th>\n",
       "      <td>0</td>\n",
       "      <td>0</td>\n",
       "      <td>0</td>\n",
       "      <td>0.098690</td>\n",
       "      <td>0.048706</td>\n",
       "      <td>0.451083</td>\n",
       "      <td>0.700017</td>\n",
       "      <td>0.092039</td>\n",
       "      <td>1</td>\n",
       "      <td>0</td>\n",
       "      <td>...</td>\n",
       "      <td>0</td>\n",
       "      <td>0</td>\n",
       "      <td>0</td>\n",
       "      <td>0</td>\n",
       "      <td>0</td>\n",
       "      <td>0</td>\n",
       "      <td>0</td>\n",
       "      <td>0</td>\n",
       "      <td>0</td>\n",
       "      <td>0</td>\n",
       "    </tr>\n",
       "  </tbody>\n",
       "</table>\n",
       "<p>5 rows × 30 columns</p>\n",
       "</div>"
      ],
      "text/plain": [
       "     yr  holiday  workingday      temp     atemp       hum  windspeed  \\\n",
       "483   1        0           0  0.497426  0.487055  0.609956   0.194850   \n",
       "650   1        0           0  0.416433  0.409971  0.513852   0.255118   \n",
       "212   0        0           1  0.887856  0.819376  0.572294   0.276919   \n",
       "714   1        0           0  0.378013  0.381804  0.871429   0.161523   \n",
       "8     0        0           0  0.098690  0.048706  0.451083   0.700017   \n",
       "\n",
       "          cnt  season_Spring  season_Summer  ...  mnth_Oct  mnth_Sep  \\\n",
       "483  0.722734              0              1  ...         0         0   \n",
       "650  0.815347              0              0  ...         1         0   \n",
       "212  0.488265              0              0  ...         0         0   \n",
       "714  0.433042              0              0  ...         0         0   \n",
       "8    0.092039              1              0  ...         0         0   \n",
       "\n",
       "     weekday_1  weekday_2  weekday_3  weekday_4  weekday_5  weekday_6  \\\n",
       "483          0          0          0          0          0          0   \n",
       "650          0          0          0          0          0          1   \n",
       "212          1          0          0          0          0          0   \n",
       "714          0          0          0          0          0          0   \n",
       "8            0          0          0          0          0          0   \n",
       "\n",
       "     weathersit_Light_Snow_Rain  weathersit_Mist_Cloudy  \n",
       "483                           0                       0  \n",
       "650                           0                       0  \n",
       "212                           0                       0  \n",
       "714                           0                       1  \n",
       "8                             0                       0  \n",
       "\n",
       "[5 rows x 30 columns]"
      ]
     },
     "execution_count": 305,
     "metadata": {},
     "output_type": "execute_result"
    }
   ],
   "source": [
    "# Checking values after scaling\n",
    "df_train.head()"
   ]
  },
  {
   "cell_type": "code",
   "execution_count": 306,
   "metadata": {},
   "outputs": [
    {
     "data": {
      "text/html": [
       "<div>\n",
       "<style scoped>\n",
       "    .dataframe tbody tr th:only-of-type {\n",
       "        vertical-align: middle;\n",
       "    }\n",
       "\n",
       "    .dataframe tbody tr th {\n",
       "        vertical-align: top;\n",
       "    }\n",
       "\n",
       "    .dataframe thead th {\n",
       "        text-align: right;\n",
       "    }\n",
       "</style>\n",
       "<table border=\"1\" class=\"dataframe\">\n",
       "  <thead>\n",
       "    <tr style=\"text-align: right;\">\n",
       "      <th></th>\n",
       "      <th>yr</th>\n",
       "      <th>holiday</th>\n",
       "      <th>workingday</th>\n",
       "      <th>temp</th>\n",
       "      <th>atemp</th>\n",
       "      <th>hum</th>\n",
       "      <th>windspeed</th>\n",
       "      <th>cnt</th>\n",
       "      <th>season_Spring</th>\n",
       "      <th>season_Summer</th>\n",
       "      <th>...</th>\n",
       "      <th>mnth_Oct</th>\n",
       "      <th>mnth_Sep</th>\n",
       "      <th>weekday_1</th>\n",
       "      <th>weekday_2</th>\n",
       "      <th>weekday_3</th>\n",
       "      <th>weekday_4</th>\n",
       "      <th>weekday_5</th>\n",
       "      <th>weekday_6</th>\n",
       "      <th>weathersit_Light_Snow_Rain</th>\n",
       "      <th>weathersit_Mist_Cloudy</th>\n",
       "    </tr>\n",
       "  </thead>\n",
       "  <tbody>\n",
       "    <tr>\n",
       "      <th>count</th>\n",
       "      <td>510.000000</td>\n",
       "      <td>510.000000</td>\n",
       "      <td>510.000000</td>\n",
       "      <td>510.000000</td>\n",
       "      <td>510.000000</td>\n",
       "      <td>510.000000</td>\n",
       "      <td>510.000000</td>\n",
       "      <td>510.000000</td>\n",
       "      <td>510.00000</td>\n",
       "      <td>510.000000</td>\n",
       "      <td>...</td>\n",
       "      <td>510.000000</td>\n",
       "      <td>510.000000</td>\n",
       "      <td>510.000000</td>\n",
       "      <td>510.000000</td>\n",
       "      <td>510.000000</td>\n",
       "      <td>510.000000</td>\n",
       "      <td>510.000000</td>\n",
       "      <td>510.000000</td>\n",
       "      <td>510.000000</td>\n",
       "      <td>510.000000</td>\n",
       "    </tr>\n",
       "    <tr>\n",
       "      <th>mean</th>\n",
       "      <td>0.501961</td>\n",
       "      <td>0.023529</td>\n",
       "      <td>0.682353</td>\n",
       "      <td>0.540901</td>\n",
       "      <td>0.515631</td>\n",
       "      <td>0.647390</td>\n",
       "      <td>0.346318</td>\n",
       "      <td>0.515144</td>\n",
       "      <td>0.24902</td>\n",
       "      <td>0.247059</td>\n",
       "      <td>...</td>\n",
       "      <td>0.084314</td>\n",
       "      <td>0.082353</td>\n",
       "      <td>0.139216</td>\n",
       "      <td>0.141176</td>\n",
       "      <td>0.150980</td>\n",
       "      <td>0.129412</td>\n",
       "      <td>0.145098</td>\n",
       "      <td>0.150980</td>\n",
       "      <td>0.025490</td>\n",
       "      <td>0.341176</td>\n",
       "    </tr>\n",
       "    <tr>\n",
       "      <th>std</th>\n",
       "      <td>0.500487</td>\n",
       "      <td>0.151726</td>\n",
       "      <td>0.466018</td>\n",
       "      <td>0.227898</td>\n",
       "      <td>0.213626</td>\n",
       "      <td>0.149722</td>\n",
       "      <td>0.160266</td>\n",
       "      <td>0.224281</td>\n",
       "      <td>0.43287</td>\n",
       "      <td>0.431725</td>\n",
       "      <td>...</td>\n",
       "      <td>0.278131</td>\n",
       "      <td>0.275172</td>\n",
       "      <td>0.346511</td>\n",
       "      <td>0.348545</td>\n",
       "      <td>0.358381</td>\n",
       "      <td>0.335985</td>\n",
       "      <td>0.352545</td>\n",
       "      <td>0.358381</td>\n",
       "      <td>0.157763</td>\n",
       "      <td>0.474570</td>\n",
       "    </tr>\n",
       "    <tr>\n",
       "      <th>min</th>\n",
       "      <td>0.000000</td>\n",
       "      <td>0.000000</td>\n",
       "      <td>0.000000</td>\n",
       "      <td>0.000000</td>\n",
       "      <td>0.000000</td>\n",
       "      <td>0.000000</td>\n",
       "      <td>0.000000</td>\n",
       "      <td>0.000000</td>\n",
       "      <td>0.00000</td>\n",
       "      <td>0.000000</td>\n",
       "      <td>...</td>\n",
       "      <td>0.000000</td>\n",
       "      <td>0.000000</td>\n",
       "      <td>0.000000</td>\n",
       "      <td>0.000000</td>\n",
       "      <td>0.000000</td>\n",
       "      <td>0.000000</td>\n",
       "      <td>0.000000</td>\n",
       "      <td>0.000000</td>\n",
       "      <td>0.000000</td>\n",
       "      <td>0.000000</td>\n",
       "    </tr>\n",
       "    <tr>\n",
       "      <th>25%</th>\n",
       "      <td>0.000000</td>\n",
       "      <td>0.000000</td>\n",
       "      <td>0.000000</td>\n",
       "      <td>0.343228</td>\n",
       "      <td>0.335807</td>\n",
       "      <td>0.536147</td>\n",
       "      <td>0.230784</td>\n",
       "      <td>0.359468</td>\n",
       "      <td>0.00000</td>\n",
       "      <td>0.000000</td>\n",
       "      <td>...</td>\n",
       "      <td>0.000000</td>\n",
       "      <td>0.000000</td>\n",
       "      <td>0.000000</td>\n",
       "      <td>0.000000</td>\n",
       "      <td>0.000000</td>\n",
       "      <td>0.000000</td>\n",
       "      <td>0.000000</td>\n",
       "      <td>0.000000</td>\n",
       "      <td>0.000000</td>\n",
       "      <td>0.000000</td>\n",
       "    </tr>\n",
       "    <tr>\n",
       "      <th>50%</th>\n",
       "      <td>1.000000</td>\n",
       "      <td>0.000000</td>\n",
       "      <td>1.000000</td>\n",
       "      <td>0.540519</td>\n",
       "      <td>0.525578</td>\n",
       "      <td>0.646367</td>\n",
       "      <td>0.325635</td>\n",
       "      <td>0.516337</td>\n",
       "      <td>0.00000</td>\n",
       "      <td>0.000000</td>\n",
       "      <td>...</td>\n",
       "      <td>0.000000</td>\n",
       "      <td>0.000000</td>\n",
       "      <td>0.000000</td>\n",
       "      <td>0.000000</td>\n",
       "      <td>0.000000</td>\n",
       "      <td>0.000000</td>\n",
       "      <td>0.000000</td>\n",
       "      <td>0.000000</td>\n",
       "      <td>0.000000</td>\n",
       "      <td>0.000000</td>\n",
       "    </tr>\n",
       "    <tr>\n",
       "      <th>75%</th>\n",
       "      <td>1.000000</td>\n",
       "      <td>0.000000</td>\n",
       "      <td>1.000000</td>\n",
       "      <td>0.740406</td>\n",
       "      <td>0.692378</td>\n",
       "      <td>0.757900</td>\n",
       "      <td>0.434287</td>\n",
       "      <td>0.685861</td>\n",
       "      <td>0.00000</td>\n",
       "      <td>0.000000</td>\n",
       "      <td>...</td>\n",
       "      <td>0.000000</td>\n",
       "      <td>0.000000</td>\n",
       "      <td>0.000000</td>\n",
       "      <td>0.000000</td>\n",
       "      <td>0.000000</td>\n",
       "      <td>0.000000</td>\n",
       "      <td>0.000000</td>\n",
       "      <td>0.000000</td>\n",
       "      <td>0.000000</td>\n",
       "      <td>1.000000</td>\n",
       "    </tr>\n",
       "    <tr>\n",
       "      <th>max</th>\n",
       "      <td>1.000000</td>\n",
       "      <td>1.000000</td>\n",
       "      <td>1.000000</td>\n",
       "      <td>1.000000</td>\n",
       "      <td>1.000000</td>\n",
       "      <td>1.000000</td>\n",
       "      <td>1.000000</td>\n",
       "      <td>1.000000</td>\n",
       "      <td>1.00000</td>\n",
       "      <td>1.000000</td>\n",
       "      <td>...</td>\n",
       "      <td>1.000000</td>\n",
       "      <td>1.000000</td>\n",
       "      <td>1.000000</td>\n",
       "      <td>1.000000</td>\n",
       "      <td>1.000000</td>\n",
       "      <td>1.000000</td>\n",
       "      <td>1.000000</td>\n",
       "      <td>1.000000</td>\n",
       "      <td>1.000000</td>\n",
       "      <td>1.000000</td>\n",
       "    </tr>\n",
       "  </tbody>\n",
       "</table>\n",
       "<p>8 rows × 30 columns</p>\n",
       "</div>"
      ],
      "text/plain": [
       "               yr     holiday  workingday        temp       atemp         hum  \\\n",
       "count  510.000000  510.000000  510.000000  510.000000  510.000000  510.000000   \n",
       "mean     0.501961    0.023529    0.682353    0.540901    0.515631    0.647390   \n",
       "std      0.500487    0.151726    0.466018    0.227898    0.213626    0.149722   \n",
       "min      0.000000    0.000000    0.000000    0.000000    0.000000    0.000000   \n",
       "25%      0.000000    0.000000    0.000000    0.343228    0.335807    0.536147   \n",
       "50%      1.000000    0.000000    1.000000    0.540519    0.525578    0.646367   \n",
       "75%      1.000000    0.000000    1.000000    0.740406    0.692378    0.757900   \n",
       "max      1.000000    1.000000    1.000000    1.000000    1.000000    1.000000   \n",
       "\n",
       "        windspeed         cnt  season_Spring  season_Summer  ...    mnth_Oct  \\\n",
       "count  510.000000  510.000000      510.00000     510.000000  ...  510.000000   \n",
       "mean     0.346318    0.515144        0.24902       0.247059  ...    0.084314   \n",
       "std      0.160266    0.224281        0.43287       0.431725  ...    0.278131   \n",
       "min      0.000000    0.000000        0.00000       0.000000  ...    0.000000   \n",
       "25%      0.230784    0.359468        0.00000       0.000000  ...    0.000000   \n",
       "50%      0.325635    0.516337        0.00000       0.000000  ...    0.000000   \n",
       "75%      0.434287    0.685861        0.00000       0.000000  ...    0.000000   \n",
       "max      1.000000    1.000000        1.00000       1.000000  ...    1.000000   \n",
       "\n",
       "         mnth_Sep   weekday_1   weekday_2   weekday_3   weekday_4   weekday_5  \\\n",
       "count  510.000000  510.000000  510.000000  510.000000  510.000000  510.000000   \n",
       "mean     0.082353    0.139216    0.141176    0.150980    0.129412    0.145098   \n",
       "std      0.275172    0.346511    0.348545    0.358381    0.335985    0.352545   \n",
       "min      0.000000    0.000000    0.000000    0.000000    0.000000    0.000000   \n",
       "25%      0.000000    0.000000    0.000000    0.000000    0.000000    0.000000   \n",
       "50%      0.000000    0.000000    0.000000    0.000000    0.000000    0.000000   \n",
       "75%      0.000000    0.000000    0.000000    0.000000    0.000000    0.000000   \n",
       "max      1.000000    1.000000    1.000000    1.000000    1.000000    1.000000   \n",
       "\n",
       "        weekday_6  weathersit_Light_Snow_Rain  weathersit_Mist_Cloudy  \n",
       "count  510.000000                  510.000000              510.000000  \n",
       "mean     0.150980                    0.025490                0.341176  \n",
       "std      0.358381                    0.157763                0.474570  \n",
       "min      0.000000                    0.000000                0.000000  \n",
       "25%      0.000000                    0.000000                0.000000  \n",
       "50%      0.000000                    0.000000                0.000000  \n",
       "75%      0.000000                    0.000000                1.000000  \n",
       "max      1.000000                    1.000000                1.000000  \n",
       "\n",
       "[8 rows x 30 columns]"
      ]
     },
     "execution_count": 306,
     "metadata": {},
     "output_type": "execute_result"
    }
   ],
   "source": [
    "df_train.describe()"
   ]
  },
  {
   "cell_type": "markdown",
   "metadata": {},
   "source": [
    "## BUILDING A LINEAR MODEL\n",
    "\n",
    "Dividing into X and Y sets for the model building\n"
   ]
  },
  {
   "cell_type": "code",
   "execution_count": 307,
   "metadata": {},
   "outputs": [
    {
     "data": {
      "text/plain": [
       "483    0.722734\n",
       "650    0.815347\n",
       "212    0.488265\n",
       "714    0.433042\n",
       "8      0.092039\n",
       "         ...   \n",
       "467    0.733548\n",
       "444    0.714220\n",
       "46     0.240796\n",
       "374    0.411413\n",
       "366    0.221928\n",
       "Name: cnt, Length: 510, dtype: float64"
      ]
     },
     "execution_count": 307,
     "metadata": {},
     "output_type": "execute_result"
    }
   ],
   "source": [
    "y_train = df_train.pop('cnt')\n",
    "X_train = df_train\n",
    "y_train"
   ]
  },
  {
   "cell_type": "markdown",
   "metadata": {},
   "source": [
    "**RFE**(\n",
    "Recursive feature elimination): We will be using the LinearRegression function from SciKit Learn for its compatibility with RFE (which is a utility from sklearn)"
   ]
  },
  {
   "cell_type": "code",
   "execution_count": 308,
   "metadata": {},
   "outputs": [],
   "source": [
    "# Importing RFE and LinearRegression\n",
    "from sklearn.feature_selection import RFE\n",
    "from sklearn.linear_model import LinearRegression"
   ]
  },
  {
   "cell_type": "code",
   "execution_count": 309,
   "metadata": {},
   "outputs": [],
   "source": [
    "# Running RFE with the output number of the variable equal to 15\n",
    "lm = LinearRegression()\n",
    "lm.fit(X_train, y_train)\n",
    "\n",
    "rfe = RFE(lm, 15)             # running RFE\n",
    "rfe = rfe.fit(X_train, y_train)"
   ]
  },
  {
   "cell_type": "code",
   "execution_count": 310,
   "metadata": {
    "scrolled": true
   },
   "outputs": [
    {
     "data": {
      "text/plain": [
       "[('yr', True, 1),\n",
       " ('holiday', False, 15),\n",
       " ('workingday', False, 2),\n",
       " ('temp', True, 1),\n",
       " ('atemp', True, 1),\n",
       " ('hum', True, 1),\n",
       " ('windspeed', True, 1),\n",
       " ('season_Spring', True, 1),\n",
       " ('season_Summer', False, 11),\n",
       " ('season_Winter', True, 1),\n",
       " ('mnth_Aug', False, 7),\n",
       " ('mnth_Dec', True, 1),\n",
       " ('mnth_Feb', False, 6),\n",
       " ('mnth_Jan', False, 5),\n",
       " ('mnth_Jul', True, 1),\n",
       " ('mnth_Jun', False, 14),\n",
       " ('mnth_Mar', True, 1),\n",
       " ('mnth_May', False, 3),\n",
       " ('mnth_Nov', True, 1),\n",
       " ('mnth_Oct', False, 12),\n",
       " ('mnth_Sep', True, 1),\n",
       " ('weekday_1', False, 4),\n",
       " ('weekday_2', False, 13),\n",
       " ('weekday_3', False, 9),\n",
       " ('weekday_4', False, 10),\n",
       " ('weekday_5', False, 8),\n",
       " ('weekday_6', True, 1),\n",
       " ('weathersit_Light_Snow_Rain', True, 1),\n",
       " ('weathersit_Mist_Cloudy', True, 1)]"
      ]
     },
     "execution_count": 310,
     "metadata": {},
     "output_type": "execute_result"
    }
   ],
   "source": [
    "list(zip(X_train.columns,rfe.support_,rfe.ranking_))"
   ]
  },
  {
   "cell_type": "code",
   "execution_count": 311,
   "metadata": {
    "scrolled": true
   },
   "outputs": [
    {
     "data": {
      "text/plain": [
       "Index(['yr', 'temp', 'atemp', 'hum', 'windspeed', 'season_Spring',\n",
       "       'season_Winter', 'mnth_Dec', 'mnth_Jul', 'mnth_Mar', 'mnth_Nov',\n",
       "       'mnth_Sep', 'weekday_6', 'weathersit_Light_Snow_Rain',\n",
       "       'weathersit_Mist_Cloudy'],\n",
       "      dtype='object')"
      ]
     },
     "execution_count": 311,
     "metadata": {},
     "output_type": "execute_result"
    }
   ],
   "source": [
    "col = X_train.columns[rfe.support_]\n",
    "col"
   ]
  },
  {
   "cell_type": "code",
   "execution_count": 312,
   "metadata": {
    "scrolled": true
   },
   "outputs": [
    {
     "data": {
      "text/plain": [
       "Index(['holiday', 'workingday', 'season_Summer', 'mnth_Aug', 'mnth_Feb',\n",
       "       'mnth_Jan', 'mnth_Jun', 'mnth_May', 'mnth_Oct', 'weekday_1',\n",
       "       'weekday_2', 'weekday_3', 'weekday_4', 'weekday_5'],\n",
       "      dtype='object')"
      ]
     },
     "execution_count": 312,
     "metadata": {},
     "output_type": "execute_result"
    }
   ],
   "source": [
    "X_train.columns[~rfe.support_]"
   ]
  },
  {
   "cell_type": "code",
   "execution_count": 313,
   "metadata": {},
   "outputs": [],
   "source": [
    "# Creating X_test dataframe with RFE selected variables\n",
    "X_train_rfe = X_train[col]"
   ]
  },
  {
   "cell_type": "markdown",
   "metadata": {},
   "source": [
    "## Building Linear Model using STATS MODEL\n",
    "###  ***Model - 1***"
   ]
  },
  {
   "cell_type": "code",
   "execution_count": 314,
   "metadata": {},
   "outputs": [],
   "source": [
    "# Check for the VIF values of the feature variables. \n",
    "from statsmodels.stats.outliers_influence import variance_inflation_factor"
   ]
  },
  {
   "cell_type": "code",
   "execution_count": 315,
   "metadata": {},
   "outputs": [
    {
     "data": {
      "text/html": [
       "<div>\n",
       "<style scoped>\n",
       "    .dataframe tbody tr th:only-of-type {\n",
       "        vertical-align: middle;\n",
       "    }\n",
       "\n",
       "    .dataframe tbody tr th {\n",
       "        vertical-align: top;\n",
       "    }\n",
       "\n",
       "    .dataframe thead th {\n",
       "        text-align: right;\n",
       "    }\n",
       "</style>\n",
       "<table border=\"1\" class=\"dataframe\">\n",
       "  <thead>\n",
       "    <tr style=\"text-align: right;\">\n",
       "      <th></th>\n",
       "      <th>Features</th>\n",
       "      <th>VIF</th>\n",
       "    </tr>\n",
       "  </thead>\n",
       "  <tbody>\n",
       "    <tr>\n",
       "      <th>1</th>\n",
       "      <td>temp</td>\n",
       "      <td>353.99</td>\n",
       "    </tr>\n",
       "    <tr>\n",
       "      <th>2</th>\n",
       "      <td>atemp</td>\n",
       "      <td>351.62</td>\n",
       "    </tr>\n",
       "    <tr>\n",
       "      <th>3</th>\n",
       "      <td>hum</td>\n",
       "      <td>22.90</td>\n",
       "    </tr>\n",
       "    <tr>\n",
       "      <th>4</th>\n",
       "      <td>windspeed</td>\n",
       "      <td>5.15</td>\n",
       "    </tr>\n",
       "    <tr>\n",
       "      <th>6</th>\n",
       "      <td>season_Winter</td>\n",
       "      <td>2.75</td>\n",
       "    </tr>\n",
       "    <tr>\n",
       "      <th>5</th>\n",
       "      <td>season_Spring</td>\n",
       "      <td>2.68</td>\n",
       "    </tr>\n",
       "    <tr>\n",
       "      <th>14</th>\n",
       "      <td>weathersit_Mist_Cloudy</td>\n",
       "      <td>2.26</td>\n",
       "    </tr>\n",
       "    <tr>\n",
       "      <th>0</th>\n",
       "      <td>yr</td>\n",
       "      <td>2.05</td>\n",
       "    </tr>\n",
       "    <tr>\n",
       "      <th>10</th>\n",
       "      <td>mnth_Nov</td>\n",
       "      <td>1.83</td>\n",
       "    </tr>\n",
       "    <tr>\n",
       "      <th>8</th>\n",
       "      <td>mnth_Jul</td>\n",
       "      <td>1.41</td>\n",
       "    </tr>\n",
       "    <tr>\n",
       "      <th>7</th>\n",
       "      <td>mnth_Dec</td>\n",
       "      <td>1.40</td>\n",
       "    </tr>\n",
       "    <tr>\n",
       "      <th>9</th>\n",
       "      <td>mnth_Mar</td>\n",
       "      <td>1.22</td>\n",
       "    </tr>\n",
       "    <tr>\n",
       "      <th>11</th>\n",
       "      <td>mnth_Sep</td>\n",
       "      <td>1.22</td>\n",
       "    </tr>\n",
       "    <tr>\n",
       "      <th>13</th>\n",
       "      <td>weathersit_Light_Snow_Rain</td>\n",
       "      <td>1.21</td>\n",
       "    </tr>\n",
       "    <tr>\n",
       "      <th>12</th>\n",
       "      <td>weekday_6</td>\n",
       "      <td>1.18</td>\n",
       "    </tr>\n",
       "  </tbody>\n",
       "</table>\n",
       "</div>"
      ],
      "text/plain": [
       "                      Features     VIF\n",
       "1                         temp  353.99\n",
       "2                        atemp  351.62\n",
       "3                          hum   22.90\n",
       "4                    windspeed    5.15\n",
       "6                season_Winter    2.75\n",
       "5                season_Spring    2.68\n",
       "14      weathersit_Mist_Cloudy    2.26\n",
       "0                           yr    2.05\n",
       "10                    mnth_Nov    1.83\n",
       "8                     mnth_Jul    1.41\n",
       "7                     mnth_Dec    1.40\n",
       "9                     mnth_Mar    1.22\n",
       "11                    mnth_Sep    1.22\n",
       "13  weathersit_Light_Snow_Rain    1.21\n",
       "12                   weekday_6    1.18"
      ]
     },
     "execution_count": 315,
     "metadata": {},
     "output_type": "execute_result"
    }
   ],
   "source": [
    "# Create a dataframe that will contain the names of all the feature variables and their respective VIFs\n",
    "vif = pd.DataFrame()\n",
    "vif['Features'] = X_train_rfe.columns\n",
    "vif['VIF'] = [variance_inflation_factor(X_train_rfe.values, i) for i in range(X_train_rfe.shape[1])]\n",
    "vif['VIF'] = round(vif['VIF'], 2)\n",
    "vif = vif.sort_values(by = \"VIF\", ascending = False)\n",
    "vif"
   ]
  },
  {
   "cell_type": "code",
   "execution_count": 316,
   "metadata": {},
   "outputs": [],
   "source": [
    "import statsmodels.api as sm"
   ]
  },
  {
   "cell_type": "code",
   "execution_count": 317,
   "metadata": {},
   "outputs": [],
   "source": [
    "# Add a constant\n",
    "X_train_lm1 = sm.add_constant(X_train_rfe)\n",
    "\n",
    "# Create a first fitted model\n",
    "lr1 = sm.OLS(y_train, X_train_lm1).fit()"
   ]
  },
  {
   "cell_type": "code",
   "execution_count": 318,
   "metadata": {},
   "outputs": [
    {
     "data": {
      "text/plain": [
       "const                         0.360643\n",
       "yr                            0.229045\n",
       "temp                          0.327628\n",
       "atemp                         0.138868\n",
       "hum                          -0.170456\n",
       "windspeed                    -0.184512\n",
       "season_Spring                -0.124363\n",
       "season_Winter                 0.077731\n",
       "mnth_Dec                     -0.040935\n",
       "mnth_Jul                     -0.054367\n",
       "mnth_Mar                      0.048370\n",
       "mnth_Nov                     -0.058427\n",
       "mnth_Sep                      0.060833\n",
       "weekday_6                     0.023050\n",
       "weathersit_Light_Snow_Rain   -0.260751\n",
       "weathersit_Mist_Cloudy       -0.046952\n",
       "dtype: float64"
      ]
     },
     "execution_count": 318,
     "metadata": {},
     "output_type": "execute_result"
    }
   ],
   "source": [
    "# Check the parameters obtained\n",
    "\n",
    "lr1.params"
   ]
  },
  {
   "cell_type": "code",
   "execution_count": 319,
   "metadata": {},
   "outputs": [
    {
     "name": "stdout",
     "output_type": "stream",
     "text": [
      "                            OLS Regression Results                            \n",
      "==============================================================================\n",
      "Dep. Variable:                    cnt   R-squared:                       0.837\n",
      "Model:                            OLS   Adj. R-squared:                  0.832\n",
      "Method:                 Least Squares   F-statistic:                     169.5\n",
      "Date:                Wed, 15 Dec 2021   Prob (F-statistic):          1.08e-183\n",
      "Time:                        17:07:33   Log-Likelihood:                 502.27\n",
      "No. Observations:                 510   AIC:                            -972.5\n",
      "Df Residuals:                     494   BIC:                            -904.8\n",
      "Df Model:                          15                                         \n",
      "Covariance Type:            nonrobust                                         \n",
      "==============================================================================================\n",
      "                                 coef    std err          t      P>|t|      [0.025      0.975]\n",
      "----------------------------------------------------------------------------------------------\n",
      "const                          0.3606      0.033     10.870      0.000       0.295       0.426\n",
      "yr                             0.2290      0.008     27.683      0.000       0.213       0.245\n",
      "temp                           0.3276      0.131      2.510      0.012       0.071       0.584\n",
      "atemp                          0.1389      0.137      1.013      0.311      -0.130       0.408\n",
      "hum                           -0.1705      0.038     -4.477      0.000      -0.245      -0.096\n",
      "windspeed                     -0.1845      0.028     -6.532      0.000      -0.240      -0.129\n",
      "season_Spring                 -0.1244      0.015     -8.029      0.000      -0.155      -0.094\n",
      "season_Winter                  0.0777      0.014      5.451      0.000       0.050       0.106\n",
      "mnth_Dec                      -0.0409      0.017     -2.344      0.019      -0.075      -0.007\n",
      "mnth_Jul                      -0.0544      0.017     -3.150      0.002      -0.088      -0.020\n",
      "mnth_Mar                       0.0484      0.016      2.996      0.003       0.017       0.080\n",
      "mnth_Nov                      -0.0584      0.019     -3.090      0.002      -0.096      -0.021\n",
      "mnth_Sep                       0.0608      0.016      3.878      0.000       0.030       0.092\n",
      "weekday_6                      0.0231      0.011      2.020      0.044       0.001       0.045\n",
      "weathersit_Light_Snow_Rain    -0.2608      0.029     -9.084      0.000      -0.317      -0.204\n",
      "weathersit_Mist_Cloudy        -0.0470      0.011     -4.342      0.000      -0.068      -0.026\n",
      "==============================================================================\n",
      "Omnibus:                       83.006   Durbin-Watson:                   2.027\n",
      "Prob(Omnibus):                  0.000   Jarque-Bera (JB):              184.761\n",
      "Skew:                          -0.868   Prob(JB):                     7.58e-41\n",
      "Kurtosis:                       5.384   Cond. No.                         75.9\n",
      "==============================================================================\n",
      "\n",
      "Notes:\n",
      "[1] Standard Errors assume that the covariance matrix of the errors is correctly specified.\n"
     ]
    }
   ],
   "source": [
    "# Print a summary of the linear regression model obtained\n",
    "print(lr1.summary())"
   ]
  },
  {
   "cell_type": "markdown",
   "metadata": {},
   "source": [
    "## ***Model - 2***   <br>\n",
    "* Removing the variable 'atemp' based on its Very High 'VIF' value.<br>\n",
    "* Even though the VIF of atemp is second highest, we decided to drop 'atemp' and not 'temp' based on general knowledge that temperature can be an important factor for a business like bike rentals, and wanted to retain 'temp'.<br> "
   ]
  },
  {
   "cell_type": "code",
   "execution_count": 320,
   "metadata": {},
   "outputs": [],
   "source": [
    "X_train_new = X_train_rfe.drop([\"atemp\"], axis = 1)"
   ]
  },
  {
   "cell_type": "markdown",
   "metadata": {},
   "source": [
    "VIF Check"
   ]
  },
  {
   "cell_type": "code",
   "execution_count": 321,
   "metadata": {},
   "outputs": [
    {
     "data": {
      "text/html": [
       "<div>\n",
       "<style scoped>\n",
       "    .dataframe tbody tr th:only-of-type {\n",
       "        vertical-align: middle;\n",
       "    }\n",
       "\n",
       "    .dataframe tbody tr th {\n",
       "        vertical-align: top;\n",
       "    }\n",
       "\n",
       "    .dataframe thead th {\n",
       "        text-align: right;\n",
       "    }\n",
       "</style>\n",
       "<table border=\"1\" class=\"dataframe\">\n",
       "  <thead>\n",
       "    <tr style=\"text-align: right;\">\n",
       "      <th></th>\n",
       "      <th>Features</th>\n",
       "      <th>VIF</th>\n",
       "    </tr>\n",
       "  </thead>\n",
       "  <tbody>\n",
       "    <tr>\n",
       "      <th>2</th>\n",
       "      <td>hum</td>\n",
       "      <td>22.47</td>\n",
       "    </tr>\n",
       "    <tr>\n",
       "      <th>1</th>\n",
       "      <td>temp</td>\n",
       "      <td>15.82</td>\n",
       "    </tr>\n",
       "    <tr>\n",
       "      <th>3</th>\n",
       "      <td>windspeed</td>\n",
       "      <td>5.03</td>\n",
       "    </tr>\n",
       "    <tr>\n",
       "      <th>5</th>\n",
       "      <td>season_Winter</td>\n",
       "      <td>2.72</td>\n",
       "    </tr>\n",
       "    <tr>\n",
       "      <th>4</th>\n",
       "      <td>season_Spring</td>\n",
       "      <td>2.67</td>\n",
       "    </tr>\n",
       "    <tr>\n",
       "      <th>13</th>\n",
       "      <td>weathersit_Mist_Cloudy</td>\n",
       "      <td>2.26</td>\n",
       "    </tr>\n",
       "    <tr>\n",
       "      <th>0</th>\n",
       "      <td>yr</td>\n",
       "      <td>2.05</td>\n",
       "    </tr>\n",
       "    <tr>\n",
       "      <th>9</th>\n",
       "      <td>mnth_Nov</td>\n",
       "      <td>1.82</td>\n",
       "    </tr>\n",
       "    <tr>\n",
       "      <th>7</th>\n",
       "      <td>mnth_Jul</td>\n",
       "      <td>1.41</td>\n",
       "    </tr>\n",
       "    <tr>\n",
       "      <th>6</th>\n",
       "      <td>mnth_Dec</td>\n",
       "      <td>1.40</td>\n",
       "    </tr>\n",
       "    <tr>\n",
       "      <th>8</th>\n",
       "      <td>mnth_Mar</td>\n",
       "      <td>1.22</td>\n",
       "    </tr>\n",
       "    <tr>\n",
       "      <th>10</th>\n",
       "      <td>mnth_Sep</td>\n",
       "      <td>1.22</td>\n",
       "    </tr>\n",
       "    <tr>\n",
       "      <th>12</th>\n",
       "      <td>weathersit_Light_Snow_Rain</td>\n",
       "      <td>1.21</td>\n",
       "    </tr>\n",
       "    <tr>\n",
       "      <th>11</th>\n",
       "      <td>weekday_6</td>\n",
       "      <td>1.18</td>\n",
       "    </tr>\n",
       "  </tbody>\n",
       "</table>\n",
       "</div>"
      ],
      "text/plain": [
       "                      Features    VIF\n",
       "2                          hum  22.47\n",
       "1                         temp  15.82\n",
       "3                    windspeed   5.03\n",
       "5                season_Winter   2.72\n",
       "4                season_Spring   2.67\n",
       "13      weathersit_Mist_Cloudy   2.26\n",
       "0                           yr   2.05\n",
       "9                     mnth_Nov   1.82\n",
       "7                     mnth_Jul   1.41\n",
       "6                     mnth_Dec   1.40\n",
       "8                     mnth_Mar   1.22\n",
       "10                    mnth_Sep   1.22\n",
       "12  weathersit_Light_Snow_Rain   1.21\n",
       "11                   weekday_6   1.18"
      ]
     },
     "execution_count": 321,
     "metadata": {},
     "output_type": "execute_result"
    }
   ],
   "source": [
    "# Check for the VIF values of the feature variables. \n",
    "from statsmodels.stats.outliers_influence import variance_inflation_factor\n",
    "\n",
    "# Create a dataframe that will contain the names of all the feature variables and their respective VIFs\n",
    "vif = pd.DataFrame()\n",
    "vif['Features'] = X_train_new.columns\n",
    "vif['VIF'] = [variance_inflation_factor(X_train_new.values, i) for i in range(X_train_new.shape[1])]\n",
    "vif['VIF'] = round(vif['VIF'], 2)\n",
    "vif = vif.sort_values(by = \"VIF\", ascending = False)\n",
    "vif"
   ]
  },
  {
   "cell_type": "code",
   "execution_count": 322,
   "metadata": {},
   "outputs": [],
   "source": [
    "# Add a constant\n",
    "X_train_lm2 = sm.add_constant(X_train_new)\n",
    "\n",
    "# Create a first fitted model\n",
    "lr2 = sm.OLS(y_train, X_train_lm2).fit()"
   ]
  },
  {
   "cell_type": "code",
   "execution_count": 323,
   "metadata": {},
   "outputs": [
    {
     "data": {
      "text/plain": [
       "const                         0.363239\n",
       "yr                            0.229046\n",
       "temp                          0.455832\n",
       "hum                          -0.168323\n",
       "windspeed                    -0.189392\n",
       "season_Spring                -0.124722\n",
       "season_Winter                 0.078848\n",
       "mnth_Dec                     -0.041033\n",
       "mnth_Jul                     -0.054433\n",
       "mnth_Mar                      0.049063\n",
       "mnth_Nov                     -0.058988\n",
       "mnth_Sep                      0.059970\n",
       "weekday_6                     0.023227\n",
       "weathersit_Light_Snow_Rain   -0.261902\n",
       "weathersit_Mist_Cloudy       -0.047326\n",
       "dtype: float64"
      ]
     },
     "execution_count": 323,
     "metadata": {},
     "output_type": "execute_result"
    }
   ],
   "source": [
    "lr2.params"
   ]
  },
  {
   "cell_type": "code",
   "execution_count": 324,
   "metadata": {},
   "outputs": [
    {
     "name": "stdout",
     "output_type": "stream",
     "text": [
      "                            OLS Regression Results                            \n",
      "==============================================================================\n",
      "Dep. Variable:                    cnt   R-squared:                       0.837\n",
      "Model:                            OLS   Adj. R-squared:                  0.832\n",
      "Method:                 Least Squares   F-statistic:                     181.5\n",
      "Date:                Wed, 15 Dec 2021   Prob (F-statistic):          1.31e-184\n",
      "Time:                        17:07:35   Log-Likelihood:                 501.74\n",
      "No. Observations:                 510   AIC:                            -973.5\n",
      "Df Residuals:                     495   BIC:                            -910.0\n",
      "Df Model:                          14                                         \n",
      "Covariance Type:            nonrobust                                         \n",
      "==============================================================================================\n",
      "                                 coef    std err          t      P>|t|      [0.025      0.975]\n",
      "----------------------------------------------------------------------------------------------\n",
      "const                          0.3632      0.033     10.981      0.000       0.298       0.428\n",
      "yr                             0.2290      0.008     27.682      0.000       0.213       0.245\n",
      "temp                           0.4558      0.032     14.188      0.000       0.393       0.519\n",
      "hum                           -0.1683      0.038     -4.428      0.000      -0.243      -0.094\n",
      "windspeed                     -0.1894      0.028     -6.804      0.000      -0.244      -0.135\n",
      "season_Spring                 -0.1247      0.015     -8.054      0.000      -0.155      -0.094\n",
      "season_Winter                  0.0788      0.014      5.546      0.000       0.051       0.107\n",
      "mnth_Dec                      -0.0410      0.017     -2.350      0.019      -0.075      -0.007\n",
      "mnth_Jul                      -0.0544      0.017     -3.154      0.002      -0.088      -0.021\n",
      "mnth_Mar                       0.0491      0.016      3.042      0.002       0.017       0.081\n",
      "mnth_Nov                      -0.0590      0.019     -3.121      0.002      -0.096      -0.022\n",
      "mnth_Sep                       0.0600      0.016      3.829      0.000       0.029       0.091\n",
      "weekday_6                      0.0232      0.011      2.036      0.042       0.001       0.046\n",
      "weathersit_Light_Snow_Rain    -0.2619      0.029     -9.131      0.000      -0.318      -0.206\n",
      "weathersit_Mist_Cloudy        -0.0473      0.011     -4.379      0.000      -0.069      -0.026\n",
      "==============================================================================\n",
      "Omnibus:                       81.558   Durbin-Watson:                   2.026\n",
      "Prob(Omnibus):                  0.000   Jarque-Bera (JB):              180.907\n",
      "Skew:                          -0.855   Prob(JB):                     5.21e-40\n",
      "Kurtosis:                       5.364   Cond. No.                         19.2\n",
      "==============================================================================\n",
      "\n",
      "Notes:\n",
      "[1] Standard Errors assume that the covariance matrix of the errors is correctly specified.\n"
     ]
    }
   ],
   "source": [
    "# Print a summary of the linear regression model obtained\n",
    "print(lr2.summary())"
   ]
  },
  {
   "cell_type": "markdown",
   "metadata": {},
   "source": [
    "## ***Model - 3***  <br>\n",
    "* Removing the variable 'hum' based on its Very High 'VIF' value."
   ]
  },
  {
   "cell_type": "code",
   "execution_count": 325,
   "metadata": {},
   "outputs": [],
   "source": [
    "X_train_new = X_train_new.drop([\"hum\"], axis = 1)"
   ]
  },
  {
   "cell_type": "markdown",
   "metadata": {},
   "source": [
    "VIF Check"
   ]
  },
  {
   "cell_type": "code",
   "execution_count": 326,
   "metadata": {},
   "outputs": [
    {
     "data": {
      "text/html": [
       "<div>\n",
       "<style scoped>\n",
       "    .dataframe tbody tr th:only-of-type {\n",
       "        vertical-align: middle;\n",
       "    }\n",
       "\n",
       "    .dataframe tbody tr th {\n",
       "        vertical-align: top;\n",
       "    }\n",
       "\n",
       "    .dataframe thead th {\n",
       "        text-align: right;\n",
       "    }\n",
       "</style>\n",
       "<table border=\"1\" class=\"dataframe\">\n",
       "  <thead>\n",
       "    <tr style=\"text-align: right;\">\n",
       "      <th></th>\n",
       "      <th>Features</th>\n",
       "      <th>VIF</th>\n",
       "    </tr>\n",
       "  </thead>\n",
       "  <tbody>\n",
       "    <tr>\n",
       "      <th>1</th>\n",
       "      <td>temp</td>\n",
       "      <td>5.14</td>\n",
       "    </tr>\n",
       "    <tr>\n",
       "      <th>2</th>\n",
       "      <td>windspeed</td>\n",
       "      <td>5.00</td>\n",
       "    </tr>\n",
       "    <tr>\n",
       "      <th>4</th>\n",
       "      <td>season_Winter</td>\n",
       "      <td>2.35</td>\n",
       "    </tr>\n",
       "    <tr>\n",
       "      <th>0</th>\n",
       "      <td>yr</td>\n",
       "      <td>2.04</td>\n",
       "    </tr>\n",
       "    <tr>\n",
       "      <th>3</th>\n",
       "      <td>season_Spring</td>\n",
       "      <td>1.90</td>\n",
       "    </tr>\n",
       "    <tr>\n",
       "      <th>8</th>\n",
       "      <td>mnth_Nov</td>\n",
       "      <td>1.80</td>\n",
       "    </tr>\n",
       "    <tr>\n",
       "      <th>12</th>\n",
       "      <td>weathersit_Mist_Cloudy</td>\n",
       "      <td>1.53</td>\n",
       "    </tr>\n",
       "    <tr>\n",
       "      <th>6</th>\n",
       "      <td>mnth_Jul</td>\n",
       "      <td>1.37</td>\n",
       "    </tr>\n",
       "    <tr>\n",
       "      <th>5</th>\n",
       "      <td>mnth_Dec</td>\n",
       "      <td>1.34</td>\n",
       "    </tr>\n",
       "    <tr>\n",
       "      <th>7</th>\n",
       "      <td>mnth_Mar</td>\n",
       "      <td>1.22</td>\n",
       "    </tr>\n",
       "    <tr>\n",
       "      <th>9</th>\n",
       "      <td>mnth_Sep</td>\n",
       "      <td>1.22</td>\n",
       "    </tr>\n",
       "    <tr>\n",
       "      <th>10</th>\n",
       "      <td>weekday_6</td>\n",
       "      <td>1.18</td>\n",
       "    </tr>\n",
       "    <tr>\n",
       "      <th>11</th>\n",
       "      <td>weathersit_Light_Snow_Rain</td>\n",
       "      <td>1.07</td>\n",
       "    </tr>\n",
       "  </tbody>\n",
       "</table>\n",
       "</div>"
      ],
      "text/plain": [
       "                      Features   VIF\n",
       "1                         temp  5.14\n",
       "2                    windspeed  5.00\n",
       "4                season_Winter  2.35\n",
       "0                           yr  2.04\n",
       "3                season_Spring  1.90\n",
       "8                     mnth_Nov  1.80\n",
       "12      weathersit_Mist_Cloudy  1.53\n",
       "6                     mnth_Jul  1.37\n",
       "5                     mnth_Dec  1.34\n",
       "7                     mnth_Mar  1.22\n",
       "9                     mnth_Sep  1.22\n",
       "10                   weekday_6  1.18\n",
       "11  weathersit_Light_Snow_Rain  1.07"
      ]
     },
     "execution_count": 326,
     "metadata": {},
     "output_type": "execute_result"
    }
   ],
   "source": [
    "# Check for the VIF values of the feature variables. \n",
    "from statsmodels.stats.outliers_influence import variance_inflation_factor\n",
    "\n",
    "# Create a dataframe that will contain the names of all the feature variables and their respective VIFs\n",
    "vif = pd.DataFrame()\n",
    "vif['Features'] = X_train_new.columns\n",
    "vif['VIF'] = [variance_inflation_factor(X_train_new.values, i) for i in range(X_train_new.shape[1])]\n",
    "vif['VIF'] = round(vif['VIF'], 2)\n",
    "vif = vif.sort_values(by = \"VIF\", ascending = False)\n",
    "vif"
   ]
  },
  {
   "cell_type": "code",
   "execution_count": 327,
   "metadata": {},
   "outputs": [],
   "source": [
    "# Add a constant\n",
    "X_train_lm3 = sm.add_constant(X_train_new)\n",
    "\n",
    "# Create a first fitted model\n",
    "lr3 = sm.OLS(y_train, X_train_lm3).fit()"
   ]
  },
  {
   "cell_type": "code",
   "execution_count": 328,
   "metadata": {},
   "outputs": [
    {
     "data": {
      "text/plain": [
       "const                         0.268588\n",
       "yr                            0.233359\n",
       "temp                          0.426568\n",
       "windspeed                    -0.154471\n",
       "season_Spring                -0.126408\n",
       "season_Winter                 0.073031\n",
       "mnth_Dec                     -0.050360\n",
       "mnth_Jul                     -0.047280\n",
       "mnth_Mar                      0.055023\n",
       "mnth_Nov                     -0.058744\n",
       "mnth_Sep                      0.054855\n",
       "weekday_6                     0.022821\n",
       "weathersit_Light_Snow_Rain   -0.311736\n",
       "weathersit_Mist_Cloudy       -0.075200\n",
       "dtype: float64"
      ]
     },
     "execution_count": 328,
     "metadata": {},
     "output_type": "execute_result"
    }
   ],
   "source": [
    "# Check the parameters obtained\n",
    "\n",
    "lr3.params"
   ]
  },
  {
   "cell_type": "code",
   "execution_count": 329,
   "metadata": {},
   "outputs": [
    {
     "name": "stdout",
     "output_type": "stream",
     "text": [
      "                            OLS Regression Results                            \n",
      "==============================================================================\n",
      "Dep. Variable:                    cnt   R-squared:                       0.831\n",
      "Model:                            OLS   Adj. R-squared:                  0.826\n",
      "Method:                 Least Squares   F-statistic:                     187.0\n",
      "Date:                Wed, 15 Dec 2021   Prob (F-statistic):          1.34e-181\n",
      "Time:                        17:07:39   Log-Likelihood:                 491.83\n",
      "No. Observations:                 510   AIC:                            -955.7\n",
      "Df Residuals:                     496   BIC:                            -896.4\n",
      "Df Model:                          13                                         \n",
      "Covariance Type:            nonrobust                                         \n",
      "==============================================================================================\n",
      "                                 coef    std err          t      P>|t|      [0.025      0.975]\n",
      "----------------------------------------------------------------------------------------------\n",
      "const                          0.2686      0.026     10.446      0.000       0.218       0.319\n",
      "yr                             0.2334      0.008     27.883      0.000       0.217       0.250\n",
      "temp                           0.4266      0.032     13.320      0.000       0.364       0.489\n",
      "windspeed                     -0.1545      0.027     -5.681      0.000      -0.208      -0.101\n",
      "season_Spring                 -0.1264      0.016     -8.016      0.000      -0.157      -0.095\n",
      "season_Winter                  0.0730      0.014      5.065      0.000       0.045       0.101\n",
      "mnth_Dec                      -0.0504      0.018     -2.852      0.005      -0.085      -0.016\n",
      "mnth_Jul                      -0.0473      0.018     -2.701      0.007      -0.082      -0.013\n",
      "mnth_Mar                       0.0550      0.016      3.361      0.001       0.023       0.087\n",
      "mnth_Nov                      -0.0587      0.019     -3.051      0.002      -0.097      -0.021\n",
      "mnth_Sep                       0.0549      0.016      3.448      0.001       0.024       0.086\n",
      "weekday_6                      0.0228      0.012      1.964      0.050   -1.39e-05       0.046\n",
      "weathersit_Light_Snow_Rain    -0.3117      0.027    -11.601      0.000      -0.365      -0.259\n",
      "weathersit_Mist_Cloudy        -0.0752      0.009     -8.405      0.000      -0.093      -0.058\n",
      "==============================================================================\n",
      "Omnibus:                       80.502   Durbin-Watson:                   2.011\n",
      "Prob(Omnibus):                  0.000   Jarque-Bera (JB):              180.337\n",
      "Skew:                          -0.841   Prob(JB):                     6.92e-40\n",
      "Kurtosis:                       5.378   Cond. No.                         14.8\n",
      "==============================================================================\n",
      "\n",
      "Notes:\n",
      "[1] Standard Errors assume that the covariance matrix of the errors is correctly specified.\n"
     ]
    }
   ],
   "source": [
    "# Print a summary of the linear regression model obtained\n",
    "print(lr3.summary())"
   ]
  },
  {
   "cell_type": "markdown",
   "metadata": {},
   "source": [
    "### ***Model - 4*** "
   ]
  },
  {
   "cell_type": "markdown",
   "metadata": {},
   "source": [
    "* Removing the variable 'windspeed' based on its Very High 'VIF' value.\n",
    "* Even though the VIF of windspeed is second highest, we decided to drop 'windspeed' and not 'temp' based on general assumption that temperature can be an important factor for a business like bike rentals, and wanted to retain 'temp'.<br> "
   ]
  },
  {
   "cell_type": "code",
   "execution_count": 330,
   "metadata": {},
   "outputs": [],
   "source": [
    "X_train_new = X_train_new.drop(['windspeed'], axis = 1)"
   ]
  },
  {
   "cell_type": "markdown",
   "metadata": {},
   "source": [
    "VIF Check"
   ]
  },
  {
   "cell_type": "code",
   "execution_count": 331,
   "metadata": {},
   "outputs": [
    {
     "data": {
      "text/html": [
       "<div>\n",
       "<style scoped>\n",
       "    .dataframe tbody tr th:only-of-type {\n",
       "        vertical-align: middle;\n",
       "    }\n",
       "\n",
       "    .dataframe tbody tr th {\n",
       "        vertical-align: top;\n",
       "    }\n",
       "\n",
       "    .dataframe thead th {\n",
       "        text-align: right;\n",
       "    }\n",
       "</style>\n",
       "<table border=\"1\" class=\"dataframe\">\n",
       "  <thead>\n",
       "    <tr style=\"text-align: right;\">\n",
       "      <th></th>\n",
       "      <th>Features</th>\n",
       "      <th>VIF</th>\n",
       "    </tr>\n",
       "  </thead>\n",
       "  <tbody>\n",
       "    <tr>\n",
       "      <th>1</th>\n",
       "      <td>temp</td>\n",
       "      <td>2.94</td>\n",
       "    </tr>\n",
       "    <tr>\n",
       "      <th>3</th>\n",
       "      <td>season_Winter</td>\n",
       "      <td>2.34</td>\n",
       "    </tr>\n",
       "    <tr>\n",
       "      <th>0</th>\n",
       "      <td>yr</td>\n",
       "      <td>2.02</td>\n",
       "    </tr>\n",
       "    <tr>\n",
       "      <th>7</th>\n",
       "      <td>mnth_Nov</td>\n",
       "      <td>1.75</td>\n",
       "    </tr>\n",
       "    <tr>\n",
       "      <th>11</th>\n",
       "      <td>weathersit_Mist_Cloudy</td>\n",
       "      <td>1.52</td>\n",
       "    </tr>\n",
       "    <tr>\n",
       "      <th>2</th>\n",
       "      <td>season_Spring</td>\n",
       "      <td>1.46</td>\n",
       "    </tr>\n",
       "    <tr>\n",
       "      <th>4</th>\n",
       "      <td>mnth_Dec</td>\n",
       "      <td>1.34</td>\n",
       "    </tr>\n",
       "    <tr>\n",
       "      <th>5</th>\n",
       "      <td>mnth_Jul</td>\n",
       "      <td>1.34</td>\n",
       "    </tr>\n",
       "    <tr>\n",
       "      <th>6</th>\n",
       "      <td>mnth_Mar</td>\n",
       "      <td>1.21</td>\n",
       "    </tr>\n",
       "    <tr>\n",
       "      <th>8</th>\n",
       "      <td>mnth_Sep</td>\n",
       "      <td>1.21</td>\n",
       "    </tr>\n",
       "    <tr>\n",
       "      <th>9</th>\n",
       "      <td>weekday_6</td>\n",
       "      <td>1.17</td>\n",
       "    </tr>\n",
       "    <tr>\n",
       "      <th>10</th>\n",
       "      <td>weathersit_Light_Snow_Rain</td>\n",
       "      <td>1.05</td>\n",
       "    </tr>\n",
       "  </tbody>\n",
       "</table>\n",
       "</div>"
      ],
      "text/plain": [
       "                      Features   VIF\n",
       "1                         temp  2.94\n",
       "3                season_Winter  2.34\n",
       "0                           yr  2.02\n",
       "7                     mnth_Nov  1.75\n",
       "11      weathersit_Mist_Cloudy  1.52\n",
       "2                season_Spring  1.46\n",
       "4                     mnth_Dec  1.34\n",
       "5                     mnth_Jul  1.34\n",
       "6                     mnth_Mar  1.21\n",
       "8                     mnth_Sep  1.21\n",
       "9                    weekday_6  1.17\n",
       "10  weathersit_Light_Snow_Rain  1.05"
      ]
     },
     "execution_count": 331,
     "metadata": {},
     "output_type": "execute_result"
    }
   ],
   "source": [
    "# Check for the VIF values of the feature variables. \n",
    "from statsmodels.stats.outliers_influence import variance_inflation_factor\n",
    "\n",
    "# Create a dataframe that will contain the names of all the feature variables and their respective VIFs\n",
    "vif = pd.DataFrame()\n",
    "vif['Features'] = X_train_new.columns\n",
    "vif['VIF'] = [variance_inflation_factor(X_train_new.values, i) for i in range(X_train_new.shape[1])]\n",
    "vif['VIF'] = round(vif['VIF'], 2)\n",
    "vif = vif.sort_values(by = \"VIF\", ascending = False)\n",
    "vif"
   ]
  },
  {
   "cell_type": "code",
   "execution_count": 332,
   "metadata": {},
   "outputs": [],
   "source": [
    "# Add a constant\n",
    "X_train_lm4 = sm.add_constant(X_train_new)\n",
    "\n",
    "# Create a first fitted model\n",
    "lr4 = sm.OLS(y_train, X_train_lm4).fit()"
   ]
  },
  {
   "cell_type": "code",
   "execution_count": 333,
   "metadata": {},
   "outputs": [
    {
     "data": {
      "text/plain": [
       "const                         0.202871\n",
       "yr                            0.231028\n",
       "temp                          0.444312\n",
       "season_Spring                -0.126726\n",
       "season_Winter                 0.085769\n",
       "mnth_Dec                     -0.044757\n",
       "mnth_Jul                     -0.040682\n",
       "mnth_Mar                      0.054501\n",
       "mnth_Nov                     -0.064701\n",
       "mnth_Sep                      0.061484\n",
       "weekday_6                     0.020299\n",
       "weathersit_Light_Snow_Rain   -0.328105\n",
       "weathersit_Mist_Cloudy       -0.073264\n",
       "dtype: float64"
      ]
     },
     "execution_count": 333,
     "metadata": {},
     "output_type": "execute_result"
    }
   ],
   "source": [
    "# Check the parameters obtained\n",
    "\n",
    "lr4.params"
   ]
  },
  {
   "cell_type": "code",
   "execution_count": 334,
   "metadata": {},
   "outputs": [
    {
     "name": "stdout",
     "output_type": "stream",
     "text": [
      "                            OLS Regression Results                            \n",
      "==============================================================================\n",
      "Dep. Variable:                    cnt   R-squared:                       0.819\n",
      "Model:                            OLS   Adj. R-squared:                  0.815\n",
      "Method:                 Least Squares   F-statistic:                     188.0\n",
      "Date:                Wed, 15 Dec 2021   Prob (F-statistic):          5.49e-176\n",
      "Time:                        17:07:42   Log-Likelihood:                 475.76\n",
      "No. Observations:                 510   AIC:                            -925.5\n",
      "Df Residuals:                     497   BIC:                            -870.5\n",
      "Df Model:                          12                                         \n",
      "Covariance Type:            nonrobust                                         \n",
      "==============================================================================================\n",
      "                                 coef    std err          t      P>|t|      [0.025      0.975]\n",
      "----------------------------------------------------------------------------------------------\n",
      "const                          0.2029      0.024      8.569      0.000       0.156       0.249\n",
      "yr                             0.2310      0.009     26.807      0.000       0.214       0.248\n",
      "temp                           0.4443      0.033     13.521      0.000       0.380       0.509\n",
      "season_Spring                 -0.1267      0.016     -7.795      0.000      -0.159      -0.095\n",
      "season_Winter                  0.0858      0.015      5.841      0.000       0.057       0.115\n",
      "mnth_Dec                      -0.0448      0.018     -2.463      0.014      -0.080      -0.009\n",
      "mnth_Jul                      -0.0407      0.018     -2.259      0.024      -0.076      -0.005\n",
      "mnth_Mar                       0.0545      0.017      3.229      0.001       0.021       0.088\n",
      "mnth_Nov                      -0.0647      0.020     -3.264      0.001      -0.104      -0.026\n",
      "mnth_Sep                       0.0615      0.016      3.759      0.000       0.029       0.094\n",
      "weekday_6                      0.0203      0.012      1.695      0.091      -0.003       0.044\n",
      "weathersit_Light_Snow_Rain    -0.3281      0.028    -11.912      0.000      -0.382      -0.274\n",
      "weathersit_Mist_Cloudy        -0.0733      0.009     -7.949      0.000      -0.091      -0.055\n",
      "==============================================================================\n",
      "Omnibus:                       83.667   Durbin-Watson:                   2.015\n",
      "Prob(Omnibus):                  0.000   Jarque-Bera (JB):              200.645\n",
      "Skew:                          -0.847   Prob(JB):                     2.69e-44\n",
      "Kurtosis:                       5.563   Cond. No.                         13.9\n",
      "==============================================================================\n",
      "\n",
      "Notes:\n",
      "[1] Standard Errors assume that the covariance matrix of the errors is correctly specified.\n"
     ]
    }
   ],
   "source": [
    "# Print a summary of the linear regression model obtained\n",
    "print(lr4.summary())"
   ]
  },
  {
   "cell_type": "markdown",
   "metadata": {},
   "source": [
    "###  ***Model - 5*** "
   ]
  },
  {
   "cell_type": "markdown",
   "metadata": {},
   "source": [
    "* All Variables VIF values are well below 5. The 'weekday_6' variable having its High P-value 0.091."
   ]
  },
  {
   "cell_type": "code",
   "execution_count": 335,
   "metadata": {},
   "outputs": [],
   "source": [
    "X_train_new = X_train_new.drop([\"weekday_6\"], axis = 1)"
   ]
  },
  {
   "cell_type": "markdown",
   "metadata": {},
   "source": [
    "VIF Check"
   ]
  },
  {
   "cell_type": "code",
   "execution_count": 336,
   "metadata": {},
   "outputs": [
    {
     "data": {
      "text/html": [
       "<div>\n",
       "<style scoped>\n",
       "    .dataframe tbody tr th:only-of-type {\n",
       "        vertical-align: middle;\n",
       "    }\n",
       "\n",
       "    .dataframe tbody tr th {\n",
       "        vertical-align: top;\n",
       "    }\n",
       "\n",
       "    .dataframe thead th {\n",
       "        text-align: right;\n",
       "    }\n",
       "</style>\n",
       "<table border=\"1\" class=\"dataframe\">\n",
       "  <thead>\n",
       "    <tr style=\"text-align: right;\">\n",
       "      <th></th>\n",
       "      <th>Features</th>\n",
       "      <th>VIF</th>\n",
       "    </tr>\n",
       "  </thead>\n",
       "  <tbody>\n",
       "    <tr>\n",
       "      <th>1</th>\n",
       "      <td>temp</td>\n",
       "      <td>2.86</td>\n",
       "    </tr>\n",
       "    <tr>\n",
       "      <th>3</th>\n",
       "      <td>season_Winter</td>\n",
       "      <td>2.34</td>\n",
       "    </tr>\n",
       "    <tr>\n",
       "      <th>0</th>\n",
       "      <td>yr</td>\n",
       "      <td>2.02</td>\n",
       "    </tr>\n",
       "    <tr>\n",
       "      <th>7</th>\n",
       "      <td>mnth_Nov</td>\n",
       "      <td>1.75</td>\n",
       "    </tr>\n",
       "    <tr>\n",
       "      <th>10</th>\n",
       "      <td>weathersit_Mist_Cloudy</td>\n",
       "      <td>1.52</td>\n",
       "    </tr>\n",
       "    <tr>\n",
       "      <th>2</th>\n",
       "      <td>season_Spring</td>\n",
       "      <td>1.43</td>\n",
       "    </tr>\n",
       "    <tr>\n",
       "      <th>4</th>\n",
       "      <td>mnth_Dec</td>\n",
       "      <td>1.34</td>\n",
       "    </tr>\n",
       "    <tr>\n",
       "      <th>5</th>\n",
       "      <td>mnth_Jul</td>\n",
       "      <td>1.34</td>\n",
       "    </tr>\n",
       "    <tr>\n",
       "      <th>6</th>\n",
       "      <td>mnth_Mar</td>\n",
       "      <td>1.21</td>\n",
       "    </tr>\n",
       "    <tr>\n",
       "      <th>8</th>\n",
       "      <td>mnth_Sep</td>\n",
       "      <td>1.21</td>\n",
       "    </tr>\n",
       "    <tr>\n",
       "      <th>9</th>\n",
       "      <td>weathersit_Light_Snow_Rain</td>\n",
       "      <td>1.05</td>\n",
       "    </tr>\n",
       "  </tbody>\n",
       "</table>\n",
       "</div>"
      ],
      "text/plain": [
       "                      Features   VIF\n",
       "1                         temp  2.86\n",
       "3                season_Winter  2.34\n",
       "0                           yr  2.02\n",
       "7                     mnth_Nov  1.75\n",
       "10      weathersit_Mist_Cloudy  1.52\n",
       "2                season_Spring  1.43\n",
       "4                     mnth_Dec  1.34\n",
       "5                     mnth_Jul  1.34\n",
       "6                     mnth_Mar  1.21\n",
       "8                     mnth_Sep  1.21\n",
       "9   weathersit_Light_Snow_Rain  1.05"
      ]
     },
     "execution_count": 336,
     "metadata": {},
     "output_type": "execute_result"
    }
   ],
   "source": [
    "# Check for the VIF values of the feature variables. \n",
    "from statsmodels.stats.outliers_influence import variance_inflation_factor\n",
    "\n",
    "# Create a dataframe that will contain the names of all the feature variables and their respective VIFs\n",
    "vif = pd.DataFrame()\n",
    "vif['Features'] = X_train_new.columns\n",
    "vif['VIF'] = [variance_inflation_factor(X_train_new.values, i) for i in range(X_train_new.shape[1])]\n",
    "vif['VIF'] = round(vif['VIF'], 2)\n",
    "vif = vif.sort_values(by = \"VIF\", ascending = False)\n",
    "vif"
   ]
  },
  {
   "cell_type": "code",
   "execution_count": 337,
   "metadata": {},
   "outputs": [],
   "source": [
    "# Add a constant\n",
    "X_train_lm5 = sm.add_constant(X_train_new)\n",
    "\n",
    "# Create a first fitted model\n",
    "lr5 = sm.OLS(y_train, X_train_lm5).fit()"
   ]
  },
  {
   "cell_type": "code",
   "execution_count": 338,
   "metadata": {},
   "outputs": [
    {
     "data": {
      "text/plain": [
       "const                         0.208006\n",
       "yr                            0.231005\n",
       "temp                          0.441121\n",
       "season_Spring                -0.127178\n",
       "season_Winter                 0.084582\n",
       "mnth_Dec                     -0.044165\n",
       "mnth_Jul                     -0.039964\n",
       "mnth_Mar                      0.053580\n",
       "mnth_Nov                     -0.064146\n",
       "mnth_Sep                      0.062380\n",
       "weathersit_Light_Snow_Rain   -0.328180\n",
       "weathersit_Mist_Cloudy       -0.073507\n",
       "dtype: float64"
      ]
     },
     "execution_count": 338,
     "metadata": {},
     "output_type": "execute_result"
    }
   ],
   "source": [
    "# Check the parameters obtained\n",
    "\n",
    "lr5.params"
   ]
  },
  {
   "cell_type": "code",
   "execution_count": 339,
   "metadata": {},
   "outputs": [
    {
     "name": "stdout",
     "output_type": "stream",
     "text": [
      "                            OLS Regression Results                            \n",
      "==============================================================================\n",
      "Dep. Variable:                    cnt   R-squared:                       0.818\n",
      "Model:                            OLS   Adj. R-squared:                  0.814\n",
      "Method:                 Least Squares   F-statistic:                     204.1\n",
      "Date:                Wed, 15 Dec 2021   Prob (F-statistic):          1.56e-176\n",
      "Time:                        17:07:47   Log-Likelihood:                 474.29\n",
      "No. Observations:                 510   AIC:                            -924.6\n",
      "Df Residuals:                     498   BIC:                            -873.8\n",
      "Df Model:                          11                                         \n",
      "Covariance Type:            nonrobust                                         \n",
      "==============================================================================================\n",
      "                                 coef    std err          t      P>|t|      [0.025      0.975]\n",
      "----------------------------------------------------------------------------------------------\n",
      "const                          0.2080      0.024      8.842      0.000       0.162       0.254\n",
      "yr                             0.2310      0.009     26.754      0.000       0.214       0.248\n",
      "temp                           0.4411      0.033     13.421      0.000       0.377       0.506\n",
      "season_Spring                 -0.1272      0.016     -7.809      0.000      -0.159      -0.095\n",
      "season_Winter                  0.0846      0.015      5.755      0.000       0.056       0.113\n",
      "mnth_Dec                      -0.0442      0.018     -2.426      0.016      -0.080      -0.008\n",
      "mnth_Jul                      -0.0400      0.018     -2.216      0.027      -0.075      -0.005\n",
      "mnth_Mar                       0.0536      0.017      3.170      0.002       0.020       0.087\n",
      "mnth_Nov                      -0.0641      0.020     -3.231      0.001      -0.103      -0.025\n",
      "mnth_Sep                       0.0624      0.016      3.808      0.000       0.030       0.095\n",
      "weathersit_Light_Snow_Rain    -0.3282      0.028    -11.892      0.000      -0.382      -0.274\n",
      "weathersit_Mist_Cloudy        -0.0735      0.009     -7.961      0.000      -0.092      -0.055\n",
      "==============================================================================\n",
      "Omnibus:                       78.018   Durbin-Watson:                   2.022\n",
      "Prob(Omnibus):                  0.000   Jarque-Bera (JB):              190.521\n",
      "Skew:                          -0.787   Prob(JB):                     4.26e-42\n",
      "Kurtosis:                       5.547   Cond. No.                         13.8\n",
      "==============================================================================\n",
      "\n",
      "Notes:\n",
      "[1] Standard Errors assume that the covariance matrix of the errors is correctly specified.\n"
     ]
    }
   ],
   "source": [
    "# Print a summary of the linear regression model obtained\n",
    "print(lr5.summary())"
   ]
  },
  {
   "cell_type": "markdown",
   "metadata": {},
   "source": [
    "\n",
    "* This model looks good, as there seems to be VERY LOW Multicollinearity between the predictors and the p-values for all the predictors seems to be significant. For now, we will consider this as our final model (unless the Test data metrics are not significantly close to this number)."
   ]
  },
  {
   "cell_type": "markdown",
   "metadata": {},
   "source": [
    "## Final Model Interpretation <br>\n",
    "Hypothesis Testing:<br>\n",
    "Hypothesis testing states that:<br>\n",
    "\n",
    "H0:B1=B2=...=Bn=0<br>\n",
    "H1: at least one Bi!=0"
   ]
  },
  {
   "cell_type": "markdown",
   "metadata": {},
   "source": [
    "lr5 model coefficient values"
   ]
  },
  {
   "cell_type": "markdown",
   "metadata": {},
   "source": [
    "const                      `=`  0.208006\n",
    "yr                         `=`  0.231005\n",
    "temp                       `=`  0.441121\n",
    "season_Spring              `=` -0.127178\n",
    "season_Winter              `=` 0.084582\n",
    "mnth_Dec                   `=` -0.044165\n",
    "mnth_Jul                   `=` -0.039964\n",
    "mnth_Mar                   `=` 0.053580\n",
    "mnth_Nov                   `=` -0.064146\n",
    "mnth_Sep                   `=` 0.062380\n",
    "weathersit_Light_Snow_Rain `=` -0.328180\n",
    "weathersit_Mist_Cloudy     `=` -0.073507"
   ]
  },
  {
   "cell_type": "markdown",
   "metadata": {},
   "source": [
    "\n",
    "* From the lr5 model summary, it is evident that all our coefficients are not equal to zerowhich means We REJECT the NULL HYPOTHESIS"
   ]
  },
  {
   "cell_type": "markdown",
   "metadata": {},
   "source": [
    "F Statistics"
   ]
  },
  {
   "cell_type": "markdown",
   "metadata": {},
   "source": [
    "F-Statistics is used for testing the overall significance of the Model: Higher the F-Statistics, more significant the Model is.\n",
    "\n",
    "*  F-statistic:                     204.1\n",
    "* Prob (F-statistic):          1.56e-176<br>\n",
    "The F-Statistics value are 204.1 (which is greater than 1) and the p-value of all the variables are well below 0.05 it states that the overall model is significant. "
   ]
  },
  {
   "cell_type": "markdown",
   "metadata": {},
   "source": [
    "## The equation of best fitted surface based on model lr6:"
   ]
  },
  {
   "cell_type": "markdown",
   "metadata": {},
   "source": [
    "**cnt = 0.208006 + (yr x 0.231005) + (temp x 0.441121) - (season_Spring x 0.127178) + (season_Winter x 0.084582) - (mnth_Dec x 0.044165) - (mnth_Jul x  0.039964) + (mnth_Mar  x  0.053580) - (mnth_Nov  x  0.064146)  + (mnth_Sep  x  0.062380) - (weathersit_Light_Snow_Rain x 0.328180) - (weathersit_Mist_Cloudy x 0.073507)**"
   ]
  },
  {
   "cell_type": "markdown",
   "metadata": {},
   "source": [
    "## Interpretation of Coefficients: \n",
    "\n",
    "This is similar to equation: Y = B0 + B1*x1 + B2*X2 ...Bn*Xn \n",
    "where:\n",
    "* If Positive sign: A coefficients value of (B1,B2,B3...Bn) indicated that a unit increase in Independent variable(X1,X2,X3...Xn), increases the bike hire numbers by (B1,B2,B3...Bn) units.\n",
    "\n",
    "\n",
    "* If Negative sign: A coefficients value of (B1,B2,B3...Bn) indicated that a unit increase in Independent variable(X1,X2,X3...Xn), decreases the bike hire numbers by (B1,B2,B3...Bn) units.\n",
    "\n",
    "\n",
    "* const: The Constant value of ‘0.248891’ indicated that, in the absence of all other predictor variables <br> (i.e. when x1,x2...xn =0), The bike rental can still increase by 0.248891 units.\n"
   ]
  },
  {
   "cell_type": "markdown",
   "metadata": {},
   "source": [
    "## ASSUMPTIONS "
   ]
  },
  {
   "cell_type": "markdown",
   "metadata": {},
   "source": [
    "#### Error terms are normally distributed with mean zero (not X, Y)\n",
    "* Residual Analysis Of Training Data"
   ]
  },
  {
   "cell_type": "code",
   "execution_count": 340,
   "metadata": {},
   "outputs": [],
   "source": [
    "y_train_pred = lr5.predict(X_train_lm5)"
   ]
  },
  {
   "cell_type": "code",
   "execution_count": 341,
   "metadata": {},
   "outputs": [
    {
     "data": {
      "text/plain": [
       "Text(0.5, 0, 'Errors')"
      ]
     },
     "execution_count": 341,
     "metadata": {},
     "output_type": "execute_result"
    },
    {
     "data": {
      "image/png": "[encoded data removed]",
      "text/plain": [
       "<Figure size 432x288 with 1 Axes>"
      ]
     },
     "metadata": {
      "needs_background": "light"
     },
     "output_type": "display_data"
    }
   ],
   "source": [
    "res = y_train-y_train_pred\n",
    "# Plot the histogram of the error terms\n",
    "fig = plt.figure()\n",
    "sns.distplot((res), bins = 20)\n",
    "fig.suptitle('Error Terms', fontsize = 20)                  # Plot heading \n",
    "plt.xlabel('Errors', fontsize = 18)                         # X-label"
   ]
  },
  {
   "cell_type": "markdown",
   "metadata": {},
   "source": [
    "\n",
    "* From the above histogram, we could see that the Residuals are normally distributed. Hence our assumption for Linear Regression is valid."
   ]
  },
  {
   "cell_type": "markdown",
   "metadata": {},
   "source": [
    "###  Homoscedasticity"
   ]
  },
  {
   "cell_type": "code",
   "execution_count": 365,
   "metadata": {},
   "outputs": [
    {
     "data": {
      "image/png": "[encoded data removed]",
      "text/plain": [
       "<Figure size 432x288 with 1 Axes>"
      ]
     },
     "metadata": {
      "needs_background": "light"
     },
     "output_type": "display_data"
    }
   ],
   "source": [
    "residual = y_train - y_train_pred\n",
    "sns.scatterplot(y_train,residual)\n",
    "plt.plot(y_train,(y_train - y_train), '-r')\n",
    "plt.xlabel('Count')\n",
    "plt.ylabel('Residual')\n",
    "plt.show()\n"
   ]
  },
  {
   "cell_type": "markdown",
   "metadata": {},
   "source": [
    "### There is No Multicollinearity between the predictor variables"
   ]
  },
  {
   "cell_type": "code",
   "execution_count": 342,
   "metadata": {},
   "outputs": [
    {
     "data": {
      "text/html": [
       "<div>\n",
       "<style scoped>\n",
       "    .dataframe tbody tr th:only-of-type {\n",
       "        vertical-align: middle;\n",
       "    }\n",
       "\n",
       "    .dataframe tbody tr th {\n",
       "        vertical-align: top;\n",
       "    }\n",
       "\n",
       "    .dataframe thead th {\n",
       "        text-align: right;\n",
       "    }\n",
       "</style>\n",
       "<table border=\"1\" class=\"dataframe\">\n",
       "  <thead>\n",
       "    <tr style=\"text-align: right;\">\n",
       "      <th></th>\n",
       "      <th>Features</th>\n",
       "      <th>VIF</th>\n",
       "    </tr>\n",
       "  </thead>\n",
       "  <tbody>\n",
       "    <tr>\n",
       "      <th>1</th>\n",
       "      <td>temp</td>\n",
       "      <td>2.86</td>\n",
       "    </tr>\n",
       "    <tr>\n",
       "      <th>3</th>\n",
       "      <td>season_Winter</td>\n",
       "      <td>2.34</td>\n",
       "    </tr>\n",
       "    <tr>\n",
       "      <th>0</th>\n",
       "      <td>yr</td>\n",
       "      <td>2.02</td>\n",
       "    </tr>\n",
       "    <tr>\n",
       "      <th>7</th>\n",
       "      <td>mnth_Nov</td>\n",
       "      <td>1.75</td>\n",
       "    </tr>\n",
       "    <tr>\n",
       "      <th>10</th>\n",
       "      <td>weathersit_Mist_Cloudy</td>\n",
       "      <td>1.52</td>\n",
       "    </tr>\n",
       "    <tr>\n",
       "      <th>2</th>\n",
       "      <td>season_Spring</td>\n",
       "      <td>1.43</td>\n",
       "    </tr>\n",
       "    <tr>\n",
       "      <th>4</th>\n",
       "      <td>mnth_Dec</td>\n",
       "      <td>1.34</td>\n",
       "    </tr>\n",
       "    <tr>\n",
       "      <th>5</th>\n",
       "      <td>mnth_Jul</td>\n",
       "      <td>1.34</td>\n",
       "    </tr>\n",
       "    <tr>\n",
       "      <th>6</th>\n",
       "      <td>mnth_Mar</td>\n",
       "      <td>1.21</td>\n",
       "    </tr>\n",
       "    <tr>\n",
       "      <th>8</th>\n",
       "      <td>mnth_Sep</td>\n",
       "      <td>1.21</td>\n",
       "    </tr>\n",
       "    <tr>\n",
       "      <th>9</th>\n",
       "      <td>weathersit_Light_Snow_Rain</td>\n",
       "      <td>1.05</td>\n",
       "    </tr>\n",
       "  </tbody>\n",
       "</table>\n",
       "</div>"
      ],
      "text/plain": [
       "                      Features   VIF\n",
       "1                         temp  2.86\n",
       "3                season_Winter  2.34\n",
       "0                           yr  2.02\n",
       "7                     mnth_Nov  1.75\n",
       "10      weathersit_Mist_Cloudy  1.52\n",
       "2                season_Spring  1.43\n",
       "4                     mnth_Dec  1.34\n",
       "5                     mnth_Jul  1.34\n",
       "6                     mnth_Mar  1.21\n",
       "8                     mnth_Sep  1.21\n",
       "9   weathersit_Light_Snow_Rain  1.05"
      ]
     },
     "execution_count": 342,
     "metadata": {},
     "output_type": "execute_result"
    }
   ],
   "source": [
    "# Check for the VIF values of the feature variables. \n",
    "from statsmodels.stats.outliers_influence import variance_inflation_factor\n",
    "\n",
    "# Create a dataframe that will contain the names of all the feature variables and their respective VIFs\n",
    "vif = pd.DataFrame()\n",
    "vif['Features'] = X_train_new.columns\n",
    "vif['VIF'] = [variance_inflation_factor(X_train_new.values, i) for i in range(X_train_new.shape[1])]\n",
    "vif['VIF'] = round(vif['VIF'], 2)\n",
    "vif = vif.sort_values(by = \"VIF\", ascending = False)\n",
    "vif"
   ]
  },
  {
   "cell_type": "markdown",
   "metadata": {},
   "source": [
    "\n",
    "* From the VIF calculation we could find that there is no multicollinearity existing between the predictor variables, as all the values are within permissible range of below 5"
   ]
  },
  {
   "cell_type": "markdown",
   "metadata": {},
   "source": [
    "### MAKING PREDICTION USING FINAL MODEL"
   ]
  },
  {
   "cell_type": "markdown",
   "metadata": {},
   "source": [
    "Now that we have fitted the model and checked the assumptions, it's time to go ahead and make predictions using the final model (lr5)\n",
    "\n",
    "Applying the scaling on the test sets"
   ]
  },
  {
   "cell_type": "code",
   "execution_count": 343,
   "metadata": {},
   "outputs": [],
   "source": [
    "# Apply scaler() to all numeric variables in test dataset. Note: we will only use scaler.transform, \n",
    "# as we want to use the metrics that the model learned from the training data to be applied on the test data. \n",
    "# In other words, we want to prevent the information leak from train to test dataset.\n",
    "\n",
    "num_vars = ['temp', 'atemp', 'hum', 'windspeed','cnt']\n",
    "\n",
    "df_test[num_vars] = scaler.transform(df_test[num_vars])"
   ]
  },
  {
   "cell_type": "code",
   "execution_count": 344,
   "metadata": {},
   "outputs": [
    {
     "data": {
      "text/html": [
       "<div>\n",
       "<style scoped>\n",
       "    .dataframe tbody tr th:only-of-type {\n",
       "        vertical-align: middle;\n",
       "    }\n",
       "\n",
       "    .dataframe tbody tr th {\n",
       "        vertical-align: top;\n",
       "    }\n",
       "\n",
       "    .dataframe thead th {\n",
       "        text-align: right;\n",
       "    }\n",
       "</style>\n",
       "<table border=\"1\" class=\"dataframe\">\n",
       "  <thead>\n",
       "    <tr style=\"text-align: right;\">\n",
       "      <th></th>\n",
       "      <th>yr</th>\n",
       "      <th>holiday</th>\n",
       "      <th>workingday</th>\n",
       "      <th>temp</th>\n",
       "      <th>atemp</th>\n",
       "      <th>hum</th>\n",
       "      <th>windspeed</th>\n",
       "      <th>cnt</th>\n",
       "      <th>season_Spring</th>\n",
       "      <th>season_Summer</th>\n",
       "      <th>...</th>\n",
       "      <th>mnth_Oct</th>\n",
       "      <th>mnth_Sep</th>\n",
       "      <th>weekday_1</th>\n",
       "      <th>weekday_2</th>\n",
       "      <th>weekday_3</th>\n",
       "      <th>weekday_4</th>\n",
       "      <th>weekday_5</th>\n",
       "      <th>weekday_6</th>\n",
       "      <th>weathersit_Light_Snow_Rain</th>\n",
       "      <th>weathersit_Mist_Cloudy</th>\n",
       "    </tr>\n",
       "  </thead>\n",
       "  <tbody>\n",
       "    <tr>\n",
       "      <th>22</th>\n",
       "      <td>0</td>\n",
       "      <td>0</td>\n",
       "      <td>0</td>\n",
       "      <td>0.046591</td>\n",
       "      <td>0.025950</td>\n",
       "      <td>0.453529</td>\n",
       "      <td>0.462217</td>\n",
       "      <td>0.110907</td>\n",
       "      <td>1</td>\n",
       "      <td>0</td>\n",
       "      <td>...</td>\n",
       "      <td>0</td>\n",
       "      <td>0</td>\n",
       "      <td>0</td>\n",
       "      <td>0</td>\n",
       "      <td>0</td>\n",
       "      <td>0</td>\n",
       "      <td>0</td>\n",
       "      <td>0</td>\n",
       "      <td>0</td>\n",
       "      <td>0</td>\n",
       "    </tr>\n",
       "    <tr>\n",
       "      <th>468</th>\n",
       "      <td>1</td>\n",
       "      <td>0</td>\n",
       "      <td>0</td>\n",
       "      <td>0.543115</td>\n",
       "      <td>0.536771</td>\n",
       "      <td>0.522511</td>\n",
       "      <td>0.347424</td>\n",
       "      <td>0.855729</td>\n",
       "      <td>0</td>\n",
       "      <td>1</td>\n",
       "      <td>...</td>\n",
       "      <td>0</td>\n",
       "      <td>0</td>\n",
       "      <td>0</td>\n",
       "      <td>0</td>\n",
       "      <td>0</td>\n",
       "      <td>0</td>\n",
       "      <td>0</td>\n",
       "      <td>1</td>\n",
       "      <td>0</td>\n",
       "      <td>0</td>\n",
       "    </tr>\n",
       "    <tr>\n",
       "      <th>553</th>\n",
       "      <td>1</td>\n",
       "      <td>0</td>\n",
       "      <td>0</td>\n",
       "      <td>0.951196</td>\n",
       "      <td>0.933712</td>\n",
       "      <td>0.596104</td>\n",
       "      <td>0.212829</td>\n",
       "      <td>0.534975</td>\n",
       "      <td>0</td>\n",
       "      <td>0</td>\n",
       "      <td>...</td>\n",
       "      <td>0</td>\n",
       "      <td>0</td>\n",
       "      <td>0</td>\n",
       "      <td>0</td>\n",
       "      <td>0</td>\n",
       "      <td>0</td>\n",
       "      <td>0</td>\n",
       "      <td>0</td>\n",
       "      <td>0</td>\n",
       "      <td>0</td>\n",
       "    </tr>\n",
       "    <tr>\n",
       "      <th>504</th>\n",
       "      <td>1</td>\n",
       "      <td>0</td>\n",
       "      <td>0</td>\n",
       "      <td>0.699909</td>\n",
       "      <td>0.662746</td>\n",
       "      <td>0.551083</td>\n",
       "      <td>0.478229</td>\n",
       "      <td>0.817648</td>\n",
       "      <td>0</td>\n",
       "      <td>1</td>\n",
       "      <td>...</td>\n",
       "      <td>0</td>\n",
       "      <td>0</td>\n",
       "      <td>0</td>\n",
       "      <td>0</td>\n",
       "      <td>0</td>\n",
       "      <td>0</td>\n",
       "      <td>0</td>\n",
       "      <td>0</td>\n",
       "      <td>0</td>\n",
       "      <td>0</td>\n",
       "    </tr>\n",
       "    <tr>\n",
       "      <th>353</th>\n",
       "      <td>0</td>\n",
       "      <td>0</td>\n",
       "      <td>1</td>\n",
       "      <td>0.407087</td>\n",
       "      <td>0.416610</td>\n",
       "      <td>0.618615</td>\n",
       "      <td>0.080770</td>\n",
       "      <td>0.428900</td>\n",
       "      <td>0</td>\n",
       "      <td>0</td>\n",
       "      <td>...</td>\n",
       "      <td>0</td>\n",
       "      <td>0</td>\n",
       "      <td>0</td>\n",
       "      <td>1</td>\n",
       "      <td>0</td>\n",
       "      <td>0</td>\n",
       "      <td>0</td>\n",
       "      <td>0</td>\n",
       "      <td>0</td>\n",
       "      <td>1</td>\n",
       "    </tr>\n",
       "  </tbody>\n",
       "</table>\n",
       "<p>5 rows × 30 columns</p>\n",
       "</div>"
      ],
      "text/plain": [
       "     yr  holiday  workingday      temp     atemp       hum  windspeed  \\\n",
       "22    0        0           0  0.046591  0.025950  0.453529   0.462217   \n",
       "468   1        0           0  0.543115  0.536771  0.522511   0.347424   \n",
       "553   1        0           0  0.951196  0.933712  0.596104   0.212829   \n",
       "504   1        0           0  0.699909  0.662746  0.551083   0.478229   \n",
       "353   0        0           1  0.407087  0.416610  0.618615   0.080770   \n",
       "\n",
       "          cnt  season_Spring  season_Summer  ...  mnth_Oct  mnth_Sep  \\\n",
       "22   0.110907              1              0  ...         0         0   \n",
       "468  0.855729              0              1  ...         0         0   \n",
       "553  0.534975              0              0  ...         0         0   \n",
       "504  0.817648              0              1  ...         0         0   \n",
       "353  0.428900              0              0  ...         0         0   \n",
       "\n",
       "     weekday_1  weekday_2  weekday_3  weekday_4  weekday_5  weekday_6  \\\n",
       "22           0          0          0          0          0          0   \n",
       "468          0          0          0          0          0          1   \n",
       "553          0          0          0          0          0          0   \n",
       "504          0          0          0          0          0          0   \n",
       "353          0          1          0          0          0          0   \n",
       "\n",
       "     weathersit_Light_Snow_Rain  weathersit_Mist_Cloudy  \n",
       "22                            0                       0  \n",
       "468                           0                       0  \n",
       "553                           0                       0  \n",
       "504                           0                       0  \n",
       "353                           0                       1  \n",
       "\n",
       "[5 rows x 30 columns]"
      ]
     },
     "execution_count": 344,
     "metadata": {},
     "output_type": "execute_result"
    }
   ],
   "source": [
    "df_test.head()"
   ]
  },
  {
   "cell_type": "code",
   "execution_count": 345,
   "metadata": {},
   "outputs": [
    {
     "data": {
      "text/html": [
       "<div>\n",
       "<style scoped>\n",
       "    .dataframe tbody tr th:only-of-type {\n",
       "        vertical-align: middle;\n",
       "    }\n",
       "\n",
       "    .dataframe tbody tr th {\n",
       "        vertical-align: top;\n",
       "    }\n",
       "\n",
       "    .dataframe thead th {\n",
       "        text-align: right;\n",
       "    }\n",
       "</style>\n",
       "<table border=\"1\" class=\"dataframe\">\n",
       "  <thead>\n",
       "    <tr style=\"text-align: right;\">\n",
       "      <th></th>\n",
       "      <th>yr</th>\n",
       "      <th>holiday</th>\n",
       "      <th>workingday</th>\n",
       "      <th>temp</th>\n",
       "      <th>atemp</th>\n",
       "      <th>hum</th>\n",
       "      <th>windspeed</th>\n",
       "      <th>cnt</th>\n",
       "      <th>season_Spring</th>\n",
       "      <th>season_Summer</th>\n",
       "      <th>...</th>\n",
       "      <th>mnth_Oct</th>\n",
       "      <th>mnth_Sep</th>\n",
       "      <th>weekday_1</th>\n",
       "      <th>weekday_2</th>\n",
       "      <th>weekday_3</th>\n",
       "      <th>weekday_4</th>\n",
       "      <th>weekday_5</th>\n",
       "      <th>weekday_6</th>\n",
       "      <th>weathersit_Light_Snow_Rain</th>\n",
       "      <th>weathersit_Mist_Cloudy</th>\n",
       "    </tr>\n",
       "  </thead>\n",
       "  <tbody>\n",
       "    <tr>\n",
       "      <th>count</th>\n",
       "      <td>219.000000</td>\n",
       "      <td>219.000000</td>\n",
       "      <td>219.000000</td>\n",
       "      <td>219.000000</td>\n",
       "      <td>219.000000</td>\n",
       "      <td>219.000000</td>\n",
       "      <td>219.000000</td>\n",
       "      <td>219.000000</td>\n",
       "      <td>219.000000</td>\n",
       "      <td>219.000000</td>\n",
       "      <td>...</td>\n",
       "      <td>219.000000</td>\n",
       "      <td>219.000000</td>\n",
       "      <td>219.000000</td>\n",
       "      <td>219.000000</td>\n",
       "      <td>219.000000</td>\n",
       "      <td>219.000000</td>\n",
       "      <td>219.000000</td>\n",
       "      <td>219.000000</td>\n",
       "      <td>219.000000</td>\n",
       "      <td>219.000000</td>\n",
       "    </tr>\n",
       "    <tr>\n",
       "      <th>mean</th>\n",
       "      <td>0.493151</td>\n",
       "      <td>0.041096</td>\n",
       "      <td>0.684932</td>\n",
       "      <td>0.551225</td>\n",
       "      <td>0.527528</td>\n",
       "      <td>0.662567</td>\n",
       "      <td>0.346706</td>\n",
       "      <td>0.518889</td>\n",
       "      <td>0.237443</td>\n",
       "      <td>0.264840</td>\n",
       "      <td>...</td>\n",
       "      <td>0.086758</td>\n",
       "      <td>0.082192</td>\n",
       "      <td>0.155251</td>\n",
       "      <td>0.146119</td>\n",
       "      <td>0.118721</td>\n",
       "      <td>0.173516</td>\n",
       "      <td>0.132420</td>\n",
       "      <td>0.127854</td>\n",
       "      <td>0.036530</td>\n",
       "      <td>0.324201</td>\n",
       "    </tr>\n",
       "    <tr>\n",
       "      <th>std</th>\n",
       "      <td>0.501098</td>\n",
       "      <td>0.198967</td>\n",
       "      <td>0.465607</td>\n",
       "      <td>0.229463</td>\n",
       "      <td>0.215434</td>\n",
       "      <td>0.143562</td>\n",
       "      <td>0.159553</td>\n",
       "      <td>0.219953</td>\n",
       "      <td>0.426491</td>\n",
       "      <td>0.442259</td>\n",
       "      <td>...</td>\n",
       "      <td>0.282125</td>\n",
       "      <td>0.275286</td>\n",
       "      <td>0.362974</td>\n",
       "      <td>0.354034</td>\n",
       "      <td>0.324202</td>\n",
       "      <td>0.379560</td>\n",
       "      <td>0.339723</td>\n",
       "      <td>0.334692</td>\n",
       "      <td>0.188034</td>\n",
       "      <td>0.469148</td>\n",
       "    </tr>\n",
       "    <tr>\n",
       "      <th>min</th>\n",
       "      <td>0.000000</td>\n",
       "      <td>0.000000</td>\n",
       "      <td>0.000000</td>\n",
       "      <td>0.046591</td>\n",
       "      <td>0.025950</td>\n",
       "      <td>0.301299</td>\n",
       "      <td>0.073090</td>\n",
       "      <td>0.055683</td>\n",
       "      <td>0.000000</td>\n",
       "      <td>0.000000</td>\n",
       "      <td>...</td>\n",
       "      <td>0.000000</td>\n",
       "      <td>0.000000</td>\n",
       "      <td>0.000000</td>\n",
       "      <td>0.000000</td>\n",
       "      <td>0.000000</td>\n",
       "      <td>0.000000</td>\n",
       "      <td>0.000000</td>\n",
       "      <td>0.000000</td>\n",
       "      <td>0.000000</td>\n",
       "      <td>0.000000</td>\n",
       "    </tr>\n",
       "    <tr>\n",
       "      <th>25%</th>\n",
       "      <td>0.000000</td>\n",
       "      <td>0.000000</td>\n",
       "      <td>0.000000</td>\n",
       "      <td>0.356479</td>\n",
       "      <td>0.348019</td>\n",
       "      <td>0.553031</td>\n",
       "      <td>0.232689</td>\n",
       "      <td>0.364703</td>\n",
       "      <td>0.000000</td>\n",
       "      <td>0.000000</td>\n",
       "      <td>...</td>\n",
       "      <td>0.000000</td>\n",
       "      <td>0.000000</td>\n",
       "      <td>0.000000</td>\n",
       "      <td>0.000000</td>\n",
       "      <td>0.000000</td>\n",
       "      <td>0.000000</td>\n",
       "      <td>0.000000</td>\n",
       "      <td>0.000000</td>\n",
       "      <td>0.000000</td>\n",
       "      <td>0.000000</td>\n",
       "    </tr>\n",
       "    <tr>\n",
       "      <th>50%</th>\n",
       "      <td>0.000000</td>\n",
       "      <td>0.000000</td>\n",
       "      <td>1.000000</td>\n",
       "      <td>0.557653</td>\n",
       "      <td>0.549198</td>\n",
       "      <td>0.662338</td>\n",
       "      <td>0.328208</td>\n",
       "      <td>0.525771</td>\n",
       "      <td>0.000000</td>\n",
       "      <td>0.000000</td>\n",
       "      <td>...</td>\n",
       "      <td>0.000000</td>\n",
       "      <td>0.000000</td>\n",
       "      <td>0.000000</td>\n",
       "      <td>0.000000</td>\n",
       "      <td>0.000000</td>\n",
       "      <td>0.000000</td>\n",
       "      <td>0.000000</td>\n",
       "      <td>0.000000</td>\n",
       "      <td>0.000000</td>\n",
       "      <td>0.000000</td>\n",
       "    </tr>\n",
       "    <tr>\n",
       "      <th>75%</th>\n",
       "      <td>1.000000</td>\n",
       "      <td>0.000000</td>\n",
       "      <td>1.000000</td>\n",
       "      <td>0.751309</td>\n",
       "      <td>0.709163</td>\n",
       "      <td>0.762338</td>\n",
       "      <td>0.435708</td>\n",
       "      <td>0.676887</td>\n",
       "      <td>0.000000</td>\n",
       "      <td>1.000000</td>\n",
       "      <td>...</td>\n",
       "      <td>0.000000</td>\n",
       "      <td>0.000000</td>\n",
       "      <td>0.000000</td>\n",
       "      <td>0.000000</td>\n",
       "      <td>0.000000</td>\n",
       "      <td>0.000000</td>\n",
       "      <td>0.000000</td>\n",
       "      <td>0.000000</td>\n",
       "      <td>0.000000</td>\n",
       "      <td>1.000000</td>\n",
       "    </tr>\n",
       "    <tr>\n",
       "      <th>max</th>\n",
       "      <td>1.000000</td>\n",
       "      <td>1.000000</td>\n",
       "      <td>1.000000</td>\n",
       "      <td>0.984424</td>\n",
       "      <td>0.980934</td>\n",
       "      <td>1.010390</td>\n",
       "      <td>0.824380</td>\n",
       "      <td>0.963300</td>\n",
       "      <td>1.000000</td>\n",
       "      <td>1.000000</td>\n",
       "      <td>...</td>\n",
       "      <td>1.000000</td>\n",
       "      <td>1.000000</td>\n",
       "      <td>1.000000</td>\n",
       "      <td>1.000000</td>\n",
       "      <td>1.000000</td>\n",
       "      <td>1.000000</td>\n",
       "      <td>1.000000</td>\n",
       "      <td>1.000000</td>\n",
       "      <td>1.000000</td>\n",
       "      <td>1.000000</td>\n",
       "    </tr>\n",
       "  </tbody>\n",
       "</table>\n",
       "<p>8 rows × 30 columns</p>\n",
       "</div>"
      ],
      "text/plain": [
       "               yr     holiday  workingday        temp       atemp         hum  \\\n",
       "count  219.000000  219.000000  219.000000  219.000000  219.000000  219.000000   \n",
       "mean     0.493151    0.041096    0.684932    0.551225    0.527528    0.662567   \n",
       "std      0.501098    0.198967    0.465607    0.229463    0.215434    0.143562   \n",
       "min      0.000000    0.000000    0.000000    0.046591    0.025950    0.301299   \n",
       "25%      0.000000    0.000000    0.000000    0.356479    0.348019    0.553031   \n",
       "50%      0.000000    0.000000    1.000000    0.557653    0.549198    0.662338   \n",
       "75%      1.000000    0.000000    1.000000    0.751309    0.709163    0.762338   \n",
       "max      1.000000    1.000000    1.000000    0.984424    0.980934    1.010390   \n",
       "\n",
       "        windspeed         cnt  season_Spring  season_Summer  ...    mnth_Oct  \\\n",
       "count  219.000000  219.000000     219.000000     219.000000  ...  219.000000   \n",
       "mean     0.346706    0.518889       0.237443       0.264840  ...    0.086758   \n",
       "std      0.159553    0.219953       0.426491       0.442259  ...    0.282125   \n",
       "min      0.073090    0.055683       0.000000       0.000000  ...    0.000000   \n",
       "25%      0.232689    0.364703       0.000000       0.000000  ...    0.000000   \n",
       "50%      0.328208    0.525771       0.000000       0.000000  ...    0.000000   \n",
       "75%      0.435708    0.676887       0.000000       1.000000  ...    0.000000   \n",
       "max      0.824380    0.963300       1.000000       1.000000  ...    1.000000   \n",
       "\n",
       "         mnth_Sep   weekday_1   weekday_2   weekday_3   weekday_4   weekday_5  \\\n",
       "count  219.000000  219.000000  219.000000  219.000000  219.000000  219.000000   \n",
       "mean     0.082192    0.155251    0.146119    0.118721    0.173516    0.132420   \n",
       "std      0.275286    0.362974    0.354034    0.324202    0.379560    0.339723   \n",
       "min      0.000000    0.000000    0.000000    0.000000    0.000000    0.000000   \n",
       "25%      0.000000    0.000000    0.000000    0.000000    0.000000    0.000000   \n",
       "50%      0.000000    0.000000    0.000000    0.000000    0.000000    0.000000   \n",
       "75%      0.000000    0.000000    0.000000    0.000000    0.000000    0.000000   \n",
       "max      1.000000    1.000000    1.000000    1.000000    1.000000    1.000000   \n",
       "\n",
       "        weekday_6  weathersit_Light_Snow_Rain  weathersit_Mist_Cloudy  \n",
       "count  219.000000                  219.000000              219.000000  \n",
       "mean     0.127854                    0.036530                0.324201  \n",
       "std      0.334692                    0.188034                0.469148  \n",
       "min      0.000000                    0.000000                0.000000  \n",
       "25%      0.000000                    0.000000                0.000000  \n",
       "50%      0.000000                    0.000000                0.000000  \n",
       "75%      0.000000                    0.000000                1.000000  \n",
       "max      1.000000                    1.000000                1.000000  \n",
       "\n",
       "[8 rows x 30 columns]"
      ]
     },
     "execution_count": 345,
     "metadata": {},
     "output_type": "execute_result"
    }
   ],
   "source": [
    "df_test.describe()"
   ]
  },
  {
   "cell_type": "markdown",
   "metadata": {},
   "source": [
    "Dividing into X_test and y_test"
   ]
  },
  {
   "cell_type": "code",
   "execution_count": 346,
   "metadata": {},
   "outputs": [
    {
     "name": "stdout",
     "output_type": "stream",
     "text": [
      "<class 'pandas.core.frame.DataFrame'>\n",
      "Int64Index: 219 entries, 22 to 313\n",
      "Data columns (total 29 columns):\n",
      " #   Column                      Non-Null Count  Dtype  \n",
      "---  ------                      --------------  -----  \n",
      " 0   yr                          219 non-null    int64  \n",
      " 1   holiday                     219 non-null    int64  \n",
      " 2   workingday                  219 non-null    int64  \n",
      " 3   temp                        219 non-null    float64\n",
      " 4   atemp                       219 non-null    float64\n",
      " 5   hum                         219 non-null    float64\n",
      " 6   windspeed                   219 non-null    float64\n",
      " 7   season_Spring               219 non-null    uint8  \n",
      " 8   season_Summer               219 non-null    uint8  \n",
      " 9   season_Winter               219 non-null    uint8  \n",
      " 10  mnth_Aug                    219 non-null    uint8  \n",
      " 11  mnth_Dec                    219 non-null    uint8  \n",
      " 12  mnth_Feb                    219 non-null    uint8  \n",
      " 13  mnth_Jan                    219 non-null    uint8  \n",
      " 14  mnth_Jul                    219 non-null    uint8  \n",
      " 15  mnth_Jun                    219 non-null    uint8  \n",
      " 16  mnth_Mar                    219 non-null    uint8  \n",
      " 17  mnth_May                    219 non-null    uint8  \n",
      " 18  mnth_Nov                    219 non-null    uint8  \n",
      " 19  mnth_Oct                    219 non-null    uint8  \n",
      " 20  mnth_Sep                    219 non-null    uint8  \n",
      " 21  weekday_1                   219 non-null    uint8  \n",
      " 22  weekday_2                   219 non-null    uint8  \n",
      " 23  weekday_3                   219 non-null    uint8  \n",
      " 24  weekday_4                   219 non-null    uint8  \n",
      " 25  weekday_5                   219 non-null    uint8  \n",
      " 26  weekday_6                   219 non-null    uint8  \n",
      " 27  weathersit_Light_Snow_Rain  219 non-null    uint8  \n",
      " 28  weathersit_Mist_Cloudy      219 non-null    uint8  \n",
      "dtypes: float64(4), int64(3), uint8(22)\n",
      "memory usage: 18.4 KB\n"
     ]
    }
   ],
   "source": [
    "y_test = df_test.pop('cnt')\n",
    "X_test = df_test\n",
    "X_test.info()"
   ]
  },
  {
   "cell_type": "code",
   "execution_count": 347,
   "metadata": {},
   "outputs": [
    {
     "name": "stdout",
     "output_type": "stream",
     "text": [
      "<class 'pandas.core.frame.DataFrame'>\n",
      "Int64Index: 219 entries, 22 to 313\n",
      "Data columns (total 12 columns):\n",
      " #   Column                      Non-Null Count  Dtype  \n",
      "---  ------                      --------------  -----  \n",
      " 0   const                       219 non-null    float64\n",
      " 1   yr                          219 non-null    int64  \n",
      " 2   temp                        219 non-null    float64\n",
      " 3   season_Spring               219 non-null    uint8  \n",
      " 4   season_Winter               219 non-null    uint8  \n",
      " 5   mnth_Dec                    219 non-null    uint8  \n",
      " 6   mnth_Jul                    219 non-null    uint8  \n",
      " 7   mnth_Mar                    219 non-null    uint8  \n",
      " 8   mnth_Nov                    219 non-null    uint8  \n",
      " 9   mnth_Sep                    219 non-null    uint8  \n",
      " 10  weathersit_Light_Snow_Rain  219 non-null    uint8  \n",
      " 11  weathersit_Mist_Cloudy      219 non-null    uint8  \n",
      "dtypes: float64(2), int64(1), uint8(9)\n",
      "memory usage: 8.8 KB\n"
     ]
    }
   ],
   "source": [
    "#Selecting the variables that were part of final model.\n",
    "col1=X_train_new.columns\n",
    "X_test=X_test[col1]\n",
    "# Adding constant variable to test dataframe\n",
    "X_test_lm5 = sm.add_constant(X_test)\n",
    "X_test_lm5.info()"
   ]
  },
  {
   "cell_type": "code",
   "execution_count": 348,
   "metadata": {},
   "outputs": [],
   "source": [
    "# Making predictions using the final model (lr6)\n",
    "\n",
    "y_pred = lr5.predict(X_test_lm5)"
   ]
  },
  {
   "cell_type": "markdown",
   "metadata": {},
   "source": [
    "###  MODEL EVALUATION"
   ]
  },
  {
   "cell_type": "code",
   "execution_count": 349,
   "metadata": {},
   "outputs": [
    {
     "data": {
      "image/png": "[encoded data removed]",
      "text/plain": [
       "<Figure size 432x288 with 1 Axes>"
      ]
     },
     "metadata": {
      "needs_background": "light"
     },
     "output_type": "display_data"
    }
   ],
   "source": [
    "# Plotting y_test and y_pred to understand the spread\n",
    "\n",
    "fig = plt.figure()\n",
    "plt.scatter(y_test, y_pred, alpha=.5)\n",
    "fig.suptitle('y_test vs y_pred', fontsize = 20)              # Plot heading \n",
    "plt.xlabel('y_test', fontsize = 18)                          # X-label\n",
    "plt.ylabel('y_pred', fontsize = 16) \n",
    "plt.show()"
   ]
  },
  {
   "cell_type": "markdown",
   "metadata": {},
   "source": [
    "## R^2 Value for TEST"
   ]
  },
  {
   "cell_type": "code",
   "execution_count": 350,
   "metadata": {},
   "outputs": [
    {
     "data": {
      "text/plain": [
       "0.8246024047678727"
      ]
     },
     "execution_count": 350,
     "metadata": {},
     "output_type": "execute_result"
    }
   ],
   "source": [
    "from sklearn.metrics import r2_score\n",
    "#r2_score(y_test, y_pred)\n",
    "r2_score(y_test, y_pred)"
   ]
  },
  {
   "cell_type": "markdown",
   "metadata": {},
   "source": [
    "Adjusted R^2 Value for TEST"
   ]
  },
  {
   "cell_type": "code",
   "execution_count": 351,
   "metadata": {},
   "outputs": [],
   "source": [
    "# We already have the value of R^2 (calculated in above step)\n",
    "\n",
    "r2=0.8224454904426144"
   ]
  },
  {
   "cell_type": "code",
   "execution_count": 352,
   "metadata": {},
   "outputs": [
    {
     "data": {
      "text/plain": [
       "(219, 11)"
      ]
     },
     "execution_count": 352,
     "metadata": {},
     "output_type": "execute_result"
    }
   ],
   "source": [
    "# Get the shape of X_test\n",
    "X_test.shape"
   ]
  },
  {
   "cell_type": "code",
   "execution_count": 353,
   "metadata": {},
   "outputs": [
    {
     "data": {
      "text/plain": [
       "0.8130102266497099"
      ]
     },
     "execution_count": 353,
     "metadata": {},
     "output_type": "execute_result"
    }
   ],
   "source": [
    "# n is number of rows in X\n",
    "\n",
    "n = X_test.shape[0]\n",
    "\n",
    "\n",
    "# Number of features (predictors, p) is the shape along axis 1\n",
    "p = X_test.shape[1]\n",
    "\n",
    "# We find the Adjusted R-squared using the formula\n",
    "\n",
    "adjusted_r2 = 1-(1-r2)*(n-1)/(n-p-1)\n",
    "adjusted_r2"
   ]
  },
  {
   "cell_type": "markdown",
   "metadata": {},
   "source": [
    "## Final Result Comparison"
   ]
  },
  {
   "cell_type": "markdown",
   "metadata": {},
   "source": [
    "* Train R^2 :0.818\n",
    "* Train Adjusted R^2 :0.814\n",
    "* Test R^2 :0.822\n",
    "* Test Adjusted R^2 :0.813\n",
    "* This seems to be a really good model that can very well 'Generalize' various datasets."
   ]
  },
  {
   "cell_type": "code",
   "execution_count": 354,
   "metadata": {},
   "outputs": [],
   "source": [
    "r2_train=0.817\n",
    "r2_test=0.822"
   ]
  },
  {
   "cell_type": "code",
   "execution_count": 355,
   "metadata": {},
   "outputs": [
    {
     "name": "stdout",
     "output_type": "stream",
     "text": [
      "Difference in r2 Score(%) 0.5000000000000004\n"
     ]
    }
   ],
   "source": [
    "# Checking the difference between the test-train r2 score \n",
    "print('Difference in r2 Score(%)',(-r2_train + r2_test)*100)"
   ]
  },
  {
   "cell_type": "code",
   "execution_count": 357,
   "metadata": {},
   "outputs": [],
   "source": [
    "Train_Adjusted_R2 = 0.814\n",
    "Test_Adjusted_R2 = 0.813"
   ]
  },
  {
   "cell_type": "code",
   "execution_count": 358,
   "metadata": {},
   "outputs": [
    {
     "name": "stdout",
     "output_type": "stream",
     "text": [
      "Difference in Adjusted_R2 Score(%) 0.10000000000000009\n"
     ]
    }
   ],
   "source": [
    "# Checking the difference between the test-train Adjusted_R2 score \n",
    "print('Difference in Adjusted_R2 Score(%)',(Train_Adjusted_R2-Test_Adjusted_R2)*100)"
   ]
  },
  {
   "cell_type": "markdown",
   "metadata": {},
   "source": [
    "# <span style = 'color : Green' > **FINAL REPORT**"
   ]
  },
  {
   "cell_type": "markdown",
   "metadata": {},
   "source": [
    "\n",
    "As per our final Model, the top 3 predictor variables that influences the bike booking are:\n",
    "\n",
    "* Temperature (temp) - A coefficient value of ‘0.441121’ indicated that a unit increase in temp variable increases the bike hire numbers by 0.441121 units. <br>\n",
    "\n",
    "* Weather Situation 3 (weathersit_Light_Snow_Rain)(Light Snow, Light Rain + Thunderstorm + Scattered clouds, Light Rain + Scattered) - A coefficient value of ‘-0.328180’ indicated that, w.r.t Weathersit_3, a unit increase in Weathersit_3 variable decreases the bike hire numbers by 0.328180 units.<br>\n",
    "\n",
    "* Year (yr) - A coefficient value of ‘0.231005’ indicated that a unit increase in yr variable increases the bike hire numbers by 0.231005 units.<br>"
   ]
  },
  {
   "cell_type": "code",
   "execution_count": null,
   "metadata": {},
   "outputs": [],
   "source": []
  }
 ],
 "metadata": {
  "kernelspec": {
   "display_name": "Python 3",
   "language": "python",
   "name": "python3"
  },
  "language_info": {
   "codemirror_mode": {
    "name": "ipython",
    "version": 3
   },
   "file_extension": ".py",
   "mimetype": "text/x-python",
   "name": "python",
   "nbconvert_exporter": "python",
   "pygments_lexer": "ipython3",
   "version": "3.8.8"
  }
 },
 "nbformat": 4,
 "nbformat_minor": 4
}
